{
 "cells": [
  {
   "cell_type": "code",
   "execution_count": 1,
   "metadata": {},
   "outputs": [
    {
     "name": "stderr",
     "output_type": "stream",
     "text": [
      "c:\\Python\\Python310\\lib\\site-packages\\tqdm\\auto.py:22: TqdmWarning: IProgress not found. Please update jupyter and ipywidgets. See https://ipywidgets.readthedocs.io/en/stable/user_install.html\n",
      "  from .autonotebook import tqdm as notebook_tqdm\n"
     ]
    }
   ],
   "source": [
    "import numpy as np\n",
    "import pandas as pd\n",
    "import sweetviz as sv\n",
    "import matplotlib.pyplot as plt\n",
    "import seaborn as sns"
   ]
  },
  {
   "cell_type": "code",
   "execution_count": 2,
   "metadata": {},
   "outputs": [],
   "source": [
    "# Reading the csv file\n",
    "data=pd.read_csv('E:\\Performing Analysis of Meteorological Data\\weatherHistory.csv')"
   ]
  },
  {
   "cell_type": "code",
   "execution_count": 3,
   "metadata": {},
   "outputs": [
    {
     "data": {
      "text/html": [
       "<div>\n",
       "<style scoped>\n",
       "    .dataframe tbody tr th:only-of-type {\n",
       "        vertical-align: middle;\n",
       "    }\n",
       "\n",
       "    .dataframe tbody tr th {\n",
       "        vertical-align: top;\n",
       "    }\n",
       "\n",
       "    .dataframe thead th {\n",
       "        text-align: right;\n",
       "    }\n",
       "</style>\n",
       "<table border=\"1\" class=\"dataframe\">\n",
       "  <thead>\n",
       "    <tr style=\"text-align: right;\">\n",
       "      <th></th>\n",
       "      <th>Formatted Date</th>\n",
       "      <th>Summary</th>\n",
       "      <th>Precip Type</th>\n",
       "      <th>Temperature (C)</th>\n",
       "      <th>Apparent Temperature (C)</th>\n",
       "      <th>Humidity</th>\n",
       "      <th>Wind Speed (km/h)</th>\n",
       "      <th>Wind Bearing (degrees)</th>\n",
       "      <th>Visibility (km)</th>\n",
       "      <th>Pressure (millibars)</th>\n",
       "      <th>Daily Summary</th>\n",
       "    </tr>\n",
       "  </thead>\n",
       "  <tbody>\n",
       "    <tr>\n",
       "      <th>0</th>\n",
       "      <td>2006-04-01 00:00:00.000 +0200</td>\n",
       "      <td>Partly Cloudy</td>\n",
       "      <td>rain</td>\n",
       "      <td>9.472222</td>\n",
       "      <td>7.388889</td>\n",
       "      <td>0.89</td>\n",
       "      <td>14.1197</td>\n",
       "      <td>251</td>\n",
       "      <td>15.8263</td>\n",
       "      <td>1015.13</td>\n",
       "      <td>Partly cloudy throughout the day.</td>\n",
       "    </tr>\n",
       "    <tr>\n",
       "      <th>1</th>\n",
       "      <td>2006-04-01 01:00:00.000 +0200</td>\n",
       "      <td>Partly Cloudy</td>\n",
       "      <td>rain</td>\n",
       "      <td>9.355556</td>\n",
       "      <td>7.227778</td>\n",
       "      <td>0.86</td>\n",
       "      <td>14.2646</td>\n",
       "      <td>259</td>\n",
       "      <td>15.8263</td>\n",
       "      <td>1015.63</td>\n",
       "      <td>Partly cloudy throughout the day.</td>\n",
       "    </tr>\n",
       "    <tr>\n",
       "      <th>2</th>\n",
       "      <td>2006-04-01 02:00:00.000 +0200</td>\n",
       "      <td>Mostly Cloudy</td>\n",
       "      <td>rain</td>\n",
       "      <td>9.377778</td>\n",
       "      <td>9.377778</td>\n",
       "      <td>0.89</td>\n",
       "      <td>3.9284</td>\n",
       "      <td>204</td>\n",
       "      <td>14.9569</td>\n",
       "      <td>1015.94</td>\n",
       "      <td>Partly cloudy throughout the day.</td>\n",
       "    </tr>\n",
       "    <tr>\n",
       "      <th>3</th>\n",
       "      <td>2006-04-01 03:00:00.000 +0200</td>\n",
       "      <td>Partly Cloudy</td>\n",
       "      <td>rain</td>\n",
       "      <td>8.288889</td>\n",
       "      <td>5.944444</td>\n",
       "      <td>0.83</td>\n",
       "      <td>14.1036</td>\n",
       "      <td>269</td>\n",
       "      <td>15.8263</td>\n",
       "      <td>1016.41</td>\n",
       "      <td>Partly cloudy throughout the day.</td>\n",
       "    </tr>\n",
       "    <tr>\n",
       "      <th>4</th>\n",
       "      <td>2006-04-01 04:00:00.000 +0200</td>\n",
       "      <td>Mostly Cloudy</td>\n",
       "      <td>rain</td>\n",
       "      <td>8.755556</td>\n",
       "      <td>6.977778</td>\n",
       "      <td>0.83</td>\n",
       "      <td>11.0446</td>\n",
       "      <td>259</td>\n",
       "      <td>15.8263</td>\n",
       "      <td>1016.51</td>\n",
       "      <td>Partly cloudy throughout the day.</td>\n",
       "    </tr>\n",
       "  </tbody>\n",
       "</table>\n",
       "</div>"
      ],
      "text/plain": [
       "                  Formatted Date        Summary Precip Type  Temperature (C)  \\\n",
       "0  2006-04-01 00:00:00.000 +0200  Partly Cloudy        rain         9.472222   \n",
       "1  2006-04-01 01:00:00.000 +0200  Partly Cloudy        rain         9.355556   \n",
       "2  2006-04-01 02:00:00.000 +0200  Mostly Cloudy        rain         9.377778   \n",
       "3  2006-04-01 03:00:00.000 +0200  Partly Cloudy        rain         8.288889   \n",
       "4  2006-04-01 04:00:00.000 +0200  Mostly Cloudy        rain         8.755556   \n",
       "\n",
       "   Apparent Temperature (C)  Humidity  Wind Speed (km/h)  \\\n",
       "0                  7.388889      0.89            14.1197   \n",
       "1                  7.227778      0.86            14.2646   \n",
       "2                  9.377778      0.89             3.9284   \n",
       "3                  5.944444      0.83            14.1036   \n",
       "4                  6.977778      0.83            11.0446   \n",
       "\n",
       "   Wind Bearing (degrees)  Visibility (km)  Pressure (millibars)  \\\n",
       "0                     251          15.8263               1015.13   \n",
       "1                     259          15.8263               1015.63   \n",
       "2                     204          14.9569               1015.94   \n",
       "3                     269          15.8263               1016.41   \n",
       "4                     259          15.8263               1016.51   \n",
       "\n",
       "                       Daily Summary  \n",
       "0  Partly cloudy throughout the day.  \n",
       "1  Partly cloudy throughout the day.  \n",
       "2  Partly cloudy throughout the day.  \n",
       "3  Partly cloudy throughout the day.  \n",
       "4  Partly cloudy throughout the day.  "
      ]
     },
     "execution_count": 3,
     "metadata": {},
     "output_type": "execute_result"
    }
   ],
   "source": [
    "# Checking the data\n",
    "data.head()"
   ]
  },
  {
   "cell_type": "code",
   "execution_count": 4,
   "metadata": {},
   "outputs": [
    {
     "name": "stdout",
     "output_type": "stream",
     "text": [
      "<class 'pandas.core.frame.DataFrame'>\n",
      "RangeIndex: 96453 entries, 0 to 96452\n",
      "Data columns (total 11 columns):\n",
      " #   Column                    Non-Null Count  Dtype  \n",
      "---  ------                    --------------  -----  \n",
      " 0   Formatted Date            96453 non-null  object \n",
      " 1   Summary                   96453 non-null  object \n",
      " 2   Precip Type               95936 non-null  object \n",
      " 3   Temperature (C)           96453 non-null  float64\n",
      " 4   Apparent Temperature (C)  96453 non-null  float64\n",
      " 5   Humidity                  96453 non-null  float64\n",
      " 6   Wind Speed (km/h)         96453 non-null  float64\n",
      " 7   Wind Bearing (degrees)    96453 non-null  int64  \n",
      " 8   Visibility (km)           96453 non-null  float64\n",
      " 9   Pressure (millibars)      96453 non-null  float64\n",
      " 10  Daily Summary             96453 non-null  object \n",
      "dtypes: float64(6), int64(1), object(4)\n",
      "memory usage: 8.1+ MB\n"
     ]
    }
   ],
   "source": [
    "# Analysing the dataset using basic info\n",
    "data.info()"
   ]
  },
  {
   "cell_type": "code",
   "execution_count": 5,
   "metadata": {},
   "outputs": [],
   "source": [
    "# Converting the formatted date's data type to other for efficient performance\n",
    "data['Formatted Date']=pd.to_datetime(data['Formatted Date'],utc=True)"
   ]
  },
  {
   "cell_type": "code",
   "execution_count": 6,
   "metadata": {},
   "outputs": [
    {
     "data": {
      "text/plain": [
       "'Wednesday'"
      ]
     },
     "execution_count": 6,
     "metadata": {},
     "output_type": "execute_result"
    }
   ],
   "source": [
    "data.loc[2357,'Formatted Date'].day_name()"
   ]
  },
  {
   "cell_type": "code",
   "execution_count": 7,
   "metadata": {},
   "outputs": [
    {
     "data": {
      "text/plain": [
       "Formatted Date                0\n",
       "Summary                       0\n",
       "Precip Type                 517\n",
       "Temperature (C)               0\n",
       "Apparent Temperature (C)      0\n",
       "Humidity                      0\n",
       "Wind Speed (km/h)             0\n",
       "Wind Bearing (degrees)        0\n",
       "Visibility (km)               0\n",
       "Pressure (millibars)          0\n",
       "Daily Summary                 0\n",
       "dtype: int64"
      ]
     },
     "execution_count": 7,
     "metadata": {},
     "output_type": "execute_result"
    }
   ],
   "source": [
    "# Finding all the  null values and removing them\n",
    "data.isnull().sum()"
   ]
  },
  {
   "cell_type": "code",
   "execution_count": 8,
   "metadata": {},
   "outputs": [
    {
     "data": {
      "text/html": [
       "<div>\n",
       "<style scoped>\n",
       "    .dataframe tbody tr th:only-of-type {\n",
       "        vertical-align: middle;\n",
       "    }\n",
       "\n",
       "    .dataframe tbody tr th {\n",
       "        vertical-align: top;\n",
       "    }\n",
       "\n",
       "    .dataframe thead th {\n",
       "        text-align: right;\n",
       "    }\n",
       "</style>\n",
       "<table border=\"1\" class=\"dataframe\">\n",
       "  <thead>\n",
       "    <tr style=\"text-align: right;\">\n",
       "      <th></th>\n",
       "      <th>Temperature (C)</th>\n",
       "      <th>Apparent Temperature (C)</th>\n",
       "      <th>Humidity</th>\n",
       "      <th>Wind Speed (km/h)</th>\n",
       "      <th>Wind Bearing (degrees)</th>\n",
       "      <th>Visibility (km)</th>\n",
       "      <th>Pressure (millibars)</th>\n",
       "    </tr>\n",
       "  </thead>\n",
       "  <tbody>\n",
       "    <tr>\n",
       "      <th>count</th>\n",
       "      <td>96453.000000</td>\n",
       "      <td>96453.000000</td>\n",
       "      <td>96453.000000</td>\n",
       "      <td>96453.000000</td>\n",
       "      <td>96453.000000</td>\n",
       "      <td>96453.000000</td>\n",
       "      <td>96453.000000</td>\n",
       "    </tr>\n",
       "    <tr>\n",
       "      <th>mean</th>\n",
       "      <td>11.932678</td>\n",
       "      <td>10.855029</td>\n",
       "      <td>0.734899</td>\n",
       "      <td>10.810640</td>\n",
       "      <td>187.509232</td>\n",
       "      <td>10.347325</td>\n",
       "      <td>1003.235956</td>\n",
       "    </tr>\n",
       "    <tr>\n",
       "      <th>std</th>\n",
       "      <td>9.551546</td>\n",
       "      <td>10.696847</td>\n",
       "      <td>0.195473</td>\n",
       "      <td>6.913571</td>\n",
       "      <td>107.383428</td>\n",
       "      <td>4.192123</td>\n",
       "      <td>116.969906</td>\n",
       "    </tr>\n",
       "    <tr>\n",
       "      <th>min</th>\n",
       "      <td>-21.822222</td>\n",
       "      <td>-27.716667</td>\n",
       "      <td>0.000000</td>\n",
       "      <td>0.000000</td>\n",
       "      <td>0.000000</td>\n",
       "      <td>0.000000</td>\n",
       "      <td>0.000000</td>\n",
       "    </tr>\n",
       "    <tr>\n",
       "      <th>25%</th>\n",
       "      <td>4.688889</td>\n",
       "      <td>2.311111</td>\n",
       "      <td>0.600000</td>\n",
       "      <td>5.828200</td>\n",
       "      <td>116.000000</td>\n",
       "      <td>8.339800</td>\n",
       "      <td>1011.900000</td>\n",
       "    </tr>\n",
       "    <tr>\n",
       "      <th>50%</th>\n",
       "      <td>12.000000</td>\n",
       "      <td>12.000000</td>\n",
       "      <td>0.780000</td>\n",
       "      <td>9.965900</td>\n",
       "      <td>180.000000</td>\n",
       "      <td>10.046400</td>\n",
       "      <td>1016.450000</td>\n",
       "    </tr>\n",
       "    <tr>\n",
       "      <th>75%</th>\n",
       "      <td>18.838889</td>\n",
       "      <td>18.838889</td>\n",
       "      <td>0.890000</td>\n",
       "      <td>14.135800</td>\n",
       "      <td>290.000000</td>\n",
       "      <td>14.812000</td>\n",
       "      <td>1021.090000</td>\n",
       "    </tr>\n",
       "    <tr>\n",
       "      <th>max</th>\n",
       "      <td>39.905556</td>\n",
       "      <td>39.344444</td>\n",
       "      <td>1.000000</td>\n",
       "      <td>63.852600</td>\n",
       "      <td>359.000000</td>\n",
       "      <td>16.100000</td>\n",
       "      <td>1046.380000</td>\n",
       "    </tr>\n",
       "  </tbody>\n",
       "</table>\n",
       "</div>"
      ],
      "text/plain": [
       "       Temperature (C)  Apparent Temperature (C)      Humidity  \\\n",
       "count     96453.000000              96453.000000  96453.000000   \n",
       "mean         11.932678                 10.855029      0.734899   \n",
       "std           9.551546                 10.696847      0.195473   \n",
       "min         -21.822222                -27.716667      0.000000   \n",
       "25%           4.688889                  2.311111      0.600000   \n",
       "50%          12.000000                 12.000000      0.780000   \n",
       "75%          18.838889                 18.838889      0.890000   \n",
       "max          39.905556                 39.344444      1.000000   \n",
       "\n",
       "       Wind Speed (km/h)  Wind Bearing (degrees)  Visibility (km)  \\\n",
       "count       96453.000000            96453.000000     96453.000000   \n",
       "mean           10.810640              187.509232        10.347325   \n",
       "std             6.913571              107.383428         4.192123   \n",
       "min             0.000000                0.000000         0.000000   \n",
       "25%             5.828200              116.000000         8.339800   \n",
       "50%             9.965900              180.000000        10.046400   \n",
       "75%            14.135800              290.000000        14.812000   \n",
       "max            63.852600              359.000000        16.100000   \n",
       "\n",
       "       Pressure (millibars)  \n",
       "count          96453.000000  \n",
       "mean            1003.235956  \n",
       "std              116.969906  \n",
       "min                0.000000  \n",
       "25%             1011.900000  \n",
       "50%             1016.450000  \n",
       "75%             1021.090000  \n",
       "max             1046.380000  "
      ]
     },
     "execution_count": 8,
     "metadata": {},
     "output_type": "execute_result"
    }
   ],
   "source": [
    "# Finding all the statistical values of the interger type variables\n",
    "data.describe()"
   ]
  },
  {
   "cell_type": "code",
   "execution_count": 9,
   "metadata": {},
   "outputs": [
    {
     "data": {
      "text/html": [
       "<div>\n",
       "<style scoped>\n",
       "    .dataframe tbody tr th:only-of-type {\n",
       "        vertical-align: middle;\n",
       "    }\n",
       "\n",
       "    .dataframe tbody tr th {\n",
       "        vertical-align: top;\n",
       "    }\n",
       "\n",
       "    .dataframe thead th {\n",
       "        text-align: right;\n",
       "    }\n",
       "</style>\n",
       "<table border=\"1\" class=\"dataframe\">\n",
       "  <thead>\n",
       "    <tr style=\"text-align: right;\">\n",
       "      <th>Daily Summary</th>\n",
       "      <th>Breezy and foggy starting in the evening.</th>\n",
       "      <th>Breezy and foggy until morning.</th>\n",
       "      <th>Breezy and mostly cloudy overnight.</th>\n",
       "      <th>Breezy and partly cloudy in the afternoon.</th>\n",
       "      <th>Breezy in the morning and foggy in the evening.</th>\n",
       "      <th>Breezy in the morning and mostly cloudy starting in the evening.</th>\n",
       "      <th>Breezy in the morning and mostly cloudy starting in the morning.</th>\n",
       "      <th>Breezy in the morning and partly cloudy starting in the evening continuing until night.</th>\n",
       "      <th>Breezy overnight and mostly cloudy throughout the day.</th>\n",
       "      <th>Breezy overnight and overcast throughout the day.</th>\n",
       "      <th>...</th>\n",
       "      <th>Partly cloudy until evening.</th>\n",
       "      <th>Partly cloudy until morning.</th>\n",
       "      <th>Partly cloudy until night and breezy in the afternoon.</th>\n",
       "      <th>Partly cloudy until night and breezy in the morning.</th>\n",
       "      <th>Partly cloudy until night and breezy starting in the morning continuing until afternoon.</th>\n",
       "      <th>Partly cloudy until night.</th>\n",
       "      <th>Rain throughout the day.</th>\n",
       "      <th>Rain until afternoon.</th>\n",
       "      <th>Rain until morning.</th>\n",
       "      <th>Windy in the afternoon.</th>\n",
       "    </tr>\n",
       "    <tr>\n",
       "      <th>Precip Type</th>\n",
       "      <th></th>\n",
       "      <th></th>\n",
       "      <th></th>\n",
       "      <th></th>\n",
       "      <th></th>\n",
       "      <th></th>\n",
       "      <th></th>\n",
       "      <th></th>\n",
       "      <th></th>\n",
       "      <th></th>\n",
       "      <th></th>\n",
       "      <th></th>\n",
       "      <th></th>\n",
       "      <th></th>\n",
       "      <th></th>\n",
       "      <th></th>\n",
       "      <th></th>\n",
       "      <th></th>\n",
       "      <th></th>\n",
       "      <th></th>\n",
       "      <th></th>\n",
       "    </tr>\n",
       "  </thead>\n",
       "  <tbody>\n",
       "    <tr>\n",
       "      <th>rain</th>\n",
       "      <td>20</td>\n",
       "      <td>0</td>\n",
       "      <td>24</td>\n",
       "      <td>24</td>\n",
       "      <td>18</td>\n",
       "      <td>22</td>\n",
       "      <td>24</td>\n",
       "      <td>24</td>\n",
       "      <td>57</td>\n",
       "      <td>45</td>\n",
       "      <td>...</td>\n",
       "      <td>3180</td>\n",
       "      <td>345</td>\n",
       "      <td>22</td>\n",
       "      <td>72</td>\n",
       "      <td>110</td>\n",
       "      <td>5901</td>\n",
       "      <td>24</td>\n",
       "      <td>17</td>\n",
       "      <td>12</td>\n",
       "      <td>24</td>\n",
       "    </tr>\n",
       "    <tr>\n",
       "      <th>snow</th>\n",
       "      <td>4</td>\n",
       "      <td>24</td>\n",
       "      <td>0</td>\n",
       "      <td>0</td>\n",
       "      <td>6</td>\n",
       "      <td>2</td>\n",
       "      <td>0</td>\n",
       "      <td>0</td>\n",
       "      <td>15</td>\n",
       "      <td>3</td>\n",
       "      <td>...</td>\n",
       "      <td>108</td>\n",
       "      <td>39</td>\n",
       "      <td>0</td>\n",
       "      <td>0</td>\n",
       "      <td>10</td>\n",
       "      <td>268</td>\n",
       "      <td>0</td>\n",
       "      <td>0</td>\n",
       "      <td>0</td>\n",
       "      <td>0</td>\n",
       "    </tr>\n",
       "  </tbody>\n",
       "</table>\n",
       "<p>2 rows × 214 columns</p>\n",
       "</div>"
      ],
      "text/plain": [
       "Daily Summary  Breezy and foggy starting in the evening.  \\\n",
       "Precip Type                                                \n",
       "rain                                                  20   \n",
       "snow                                                   4   \n",
       "\n",
       "Daily Summary  Breezy and foggy until morning.  \\\n",
       "Precip Type                                      \n",
       "rain                                         0   \n",
       "snow                                        24   \n",
       "\n",
       "Daily Summary  Breezy and mostly cloudy overnight.  \\\n",
       "Precip Type                                          \n",
       "rain                                            24   \n",
       "snow                                             0   \n",
       "\n",
       "Daily Summary  Breezy and partly cloudy in the afternoon.  \\\n",
       "Precip Type                                                 \n",
       "rain                                                   24   \n",
       "snow                                                    0   \n",
       "\n",
       "Daily Summary  Breezy in the morning and foggy in the evening.  \\\n",
       "Precip Type                                                      \n",
       "rain                                                        18   \n",
       "snow                                                         6   \n",
       "\n",
       "Daily Summary  Breezy in the morning and mostly cloudy starting in the evening.  \\\n",
       "Precip Type                                                                       \n",
       "rain                                                          22                  \n",
       "snow                                                           2                  \n",
       "\n",
       "Daily Summary  Breezy in the morning and mostly cloudy starting in the morning.  \\\n",
       "Precip Type                                                                       \n",
       "rain                                                          24                  \n",
       "snow                                                           0                  \n",
       "\n",
       "Daily Summary  Breezy in the morning and partly cloudy starting in the evening continuing until night.  \\\n",
       "Precip Type                                                                                              \n",
       "rain                                                          24                                         \n",
       "snow                                                           0                                         \n",
       "\n",
       "Daily Summary  Breezy overnight and mostly cloudy throughout the day.  \\\n",
       "Precip Type                                                             \n",
       "rain                                                          57        \n",
       "snow                                                          15        \n",
       "\n",
       "Daily Summary  Breezy overnight and overcast throughout the day.  ...  \\\n",
       "Precip Type                                                       ...   \n",
       "rain                                                          45  ...   \n",
       "snow                                                           3  ...   \n",
       "\n",
       "Daily Summary  Partly cloudy until evening.  Partly cloudy until morning.  \\\n",
       "Precip Type                                                                 \n",
       "rain                                   3180                           345   \n",
       "snow                                    108                            39   \n",
       "\n",
       "Daily Summary  Partly cloudy until night and breezy in the afternoon.  \\\n",
       "Precip Type                                                             \n",
       "rain                                                          22        \n",
       "snow                                                           0        \n",
       "\n",
       "Daily Summary  Partly cloudy until night and breezy in the morning.  \\\n",
       "Precip Type                                                           \n",
       "rain                                                          72      \n",
       "snow                                                           0      \n",
       "\n",
       "Daily Summary  Partly cloudy until night and breezy starting in the morning continuing until afternoon.  \\\n",
       "Precip Type                                                                                               \n",
       "rain                                                         110                                          \n",
       "snow                                                          10                                          \n",
       "\n",
       "Daily Summary  Partly cloudy until night.  Rain throughout the day.  \\\n",
       "Precip Type                                                           \n",
       "rain                                 5901                        24   \n",
       "snow                                  268                         0   \n",
       "\n",
       "Daily Summary  Rain until afternoon.  Rain until morning.  \\\n",
       "Precip Type                                                 \n",
       "rain                              17                   12   \n",
       "snow                               0                    0   \n",
       "\n",
       "Daily Summary  Windy in the afternoon.  \n",
       "Precip Type                             \n",
       "rain                                24  \n",
       "snow                                 0  \n",
       "\n",
       "[2 rows x 214 columns]"
      ]
     },
     "execution_count": 9,
     "metadata": {},
     "output_type": "execute_result"
    }
   ],
   "source": [
    "pd.crosstab(data['Precip Type'],columns=data['Daily Summary'])"
   ]
  },
  {
   "cell_type": "code",
   "execution_count": 10,
   "metadata": {},
   "outputs": [
    {
     "data": {
      "text/plain": [
       "0          Friday\n",
       "1          Friday\n",
       "2        Saturday\n",
       "3        Saturday\n",
       "4        Saturday\n",
       "           ...   \n",
       "96448      Friday\n",
       "96449      Friday\n",
       "96450      Friday\n",
       "96451      Friday\n",
       "96452      Friday\n",
       "Name: Day of week, Length: 96453, dtype: object"
      ]
     },
     "execution_count": 10,
     "metadata": {},
     "output_type": "execute_result"
    }
   ],
   "source": [
    "# creating a column and inserting the day onto that\n",
    "data['Day of week']=data['Formatted Date'].dt.day_name()\n",
    "data['Day of week']"
   ]
  },
  {
   "cell_type": "code",
   "execution_count": 11,
   "metadata": {},
   "outputs": [
    {
     "data": {
      "text/html": [
       "<div>\n",
       "<style scoped>\n",
       "    .dataframe tbody tr th:only-of-type {\n",
       "        vertical-align: middle;\n",
       "    }\n",
       "\n",
       "    .dataframe tbody tr th {\n",
       "        vertical-align: top;\n",
       "    }\n",
       "\n",
       "    .dataframe thead th {\n",
       "        text-align: right;\n",
       "    }\n",
       "</style>\n",
       "<table border=\"1\" class=\"dataframe\">\n",
       "  <thead>\n",
       "    <tr style=\"text-align: right;\">\n",
       "      <th></th>\n",
       "      <th>Formatted Date</th>\n",
       "      <th>Summary</th>\n",
       "      <th>Precip Type</th>\n",
       "      <th>Temperature (C)</th>\n",
       "      <th>Apparent Temperature (C)</th>\n",
       "      <th>Humidity</th>\n",
       "      <th>Wind Speed (km/h)</th>\n",
       "      <th>Wind Bearing (degrees)</th>\n",
       "      <th>Visibility (km)</th>\n",
       "      <th>Pressure (millibars)</th>\n",
       "      <th>Daily Summary</th>\n",
       "      <th>Day of week</th>\n",
       "    </tr>\n",
       "  </thead>\n",
       "  <tbody>\n",
       "    <tr>\n",
       "      <th>0</th>\n",
       "      <td>2006-03-31 22:00:00+00:00</td>\n",
       "      <td>Partly Cloudy</td>\n",
       "      <td>rain</td>\n",
       "      <td>9.472222</td>\n",
       "      <td>7.388889</td>\n",
       "      <td>0.89</td>\n",
       "      <td>14.1197</td>\n",
       "      <td>251</td>\n",
       "      <td>15.8263</td>\n",
       "      <td>1015.13</td>\n",
       "      <td>Partly cloudy throughout the day.</td>\n",
       "      <td>Friday</td>\n",
       "    </tr>\n",
       "    <tr>\n",
       "      <th>1</th>\n",
       "      <td>2006-03-31 23:00:00+00:00</td>\n",
       "      <td>Partly Cloudy</td>\n",
       "      <td>rain</td>\n",
       "      <td>9.355556</td>\n",
       "      <td>7.227778</td>\n",
       "      <td>0.86</td>\n",
       "      <td>14.2646</td>\n",
       "      <td>259</td>\n",
       "      <td>15.8263</td>\n",
       "      <td>1015.63</td>\n",
       "      <td>Partly cloudy throughout the day.</td>\n",
       "      <td>Friday</td>\n",
       "    </tr>\n",
       "    <tr>\n",
       "      <th>2</th>\n",
       "      <td>2006-04-01 00:00:00+00:00</td>\n",
       "      <td>Mostly Cloudy</td>\n",
       "      <td>rain</td>\n",
       "      <td>9.377778</td>\n",
       "      <td>9.377778</td>\n",
       "      <td>0.89</td>\n",
       "      <td>3.9284</td>\n",
       "      <td>204</td>\n",
       "      <td>14.9569</td>\n",
       "      <td>1015.94</td>\n",
       "      <td>Partly cloudy throughout the day.</td>\n",
       "      <td>Saturday</td>\n",
       "    </tr>\n",
       "    <tr>\n",
       "      <th>3</th>\n",
       "      <td>2006-04-01 01:00:00+00:00</td>\n",
       "      <td>Partly Cloudy</td>\n",
       "      <td>rain</td>\n",
       "      <td>8.288889</td>\n",
       "      <td>5.944444</td>\n",
       "      <td>0.83</td>\n",
       "      <td>14.1036</td>\n",
       "      <td>269</td>\n",
       "      <td>15.8263</td>\n",
       "      <td>1016.41</td>\n",
       "      <td>Partly cloudy throughout the day.</td>\n",
       "      <td>Saturday</td>\n",
       "    </tr>\n",
       "    <tr>\n",
       "      <th>4</th>\n",
       "      <td>2006-04-01 02:00:00+00:00</td>\n",
       "      <td>Mostly Cloudy</td>\n",
       "      <td>rain</td>\n",
       "      <td>8.755556</td>\n",
       "      <td>6.977778</td>\n",
       "      <td>0.83</td>\n",
       "      <td>11.0446</td>\n",
       "      <td>259</td>\n",
       "      <td>15.8263</td>\n",
       "      <td>1016.51</td>\n",
       "      <td>Partly cloudy throughout the day.</td>\n",
       "      <td>Saturday</td>\n",
       "    </tr>\n",
       "  </tbody>\n",
       "</table>\n",
       "</div>"
      ],
      "text/plain": [
       "             Formatted Date        Summary Precip Type  Temperature (C)  \\\n",
       "0 2006-03-31 22:00:00+00:00  Partly Cloudy        rain         9.472222   \n",
       "1 2006-03-31 23:00:00+00:00  Partly Cloudy        rain         9.355556   \n",
       "2 2006-04-01 00:00:00+00:00  Mostly Cloudy        rain         9.377778   \n",
       "3 2006-04-01 01:00:00+00:00  Partly Cloudy        rain         8.288889   \n",
       "4 2006-04-01 02:00:00+00:00  Mostly Cloudy        rain         8.755556   \n",
       "\n",
       "   Apparent Temperature (C)  Humidity  Wind Speed (km/h)  \\\n",
       "0                  7.388889      0.89            14.1197   \n",
       "1                  7.227778      0.86            14.2646   \n",
       "2                  9.377778      0.89             3.9284   \n",
       "3                  5.944444      0.83            14.1036   \n",
       "4                  6.977778      0.83            11.0446   \n",
       "\n",
       "   Wind Bearing (degrees)  Visibility (km)  Pressure (millibars)  \\\n",
       "0                     251          15.8263               1015.13   \n",
       "1                     259          15.8263               1015.63   \n",
       "2                     204          14.9569               1015.94   \n",
       "3                     269          15.8263               1016.41   \n",
       "4                     259          15.8263               1016.51   \n",
       "\n",
       "                       Daily Summary Day of week  \n",
       "0  Partly cloudy throughout the day.      Friday  \n",
       "1  Partly cloudy throughout the day.      Friday  \n",
       "2  Partly cloudy throughout the day.    Saturday  \n",
       "3  Partly cloudy throughout the day.    Saturday  \n",
       "4  Partly cloudy throughout the day.    Saturday  "
      ]
     },
     "execution_count": 11,
     "metadata": {},
     "output_type": "execute_result"
    }
   ],
   "source": [
    "data.head()"
   ]
  },
  {
   "cell_type": "code",
   "execution_count": 12,
   "metadata": {},
   "outputs": [],
   "source": [
    "# Dropping all the unwanted columns and the ones which are not going to show any results\n",
    "data=data.drop(columns=['Summary','Daily Summary','Precip Type'],axis=1)"
   ]
  },
  {
   "cell_type": "code",
   "execution_count": 13,
   "metadata": {},
   "outputs": [
    {
     "data": {
      "text/plain": [
       "[<matplotlib.lines.Line2D at 0x2d279e4ae60>]"
      ]
     },
     "execution_count": 13,
     "metadata": {},
     "output_type": "execute_result"
    },
    {
     "data": {
      "image/png": "[encoded data removed]",
      "text/plain": [
       "<Figure size 432x288 with 1 Axes>"
      ]
     },
     "metadata": {
      "needs_background": "light"
     },
     "output_type": "display_data"
    }
   ],
   "source": [
    "# plotting temperature vs apparent temperature\n",
    "plt.plot(data['Temperature (C)'],data['Apparent Temperature (C)'])"
   ]
  },
  {
   "cell_type": "code",
   "execution_count": 14,
   "metadata": {},
   "outputs": [
    {
     "data": {
      "text/plain": [
       "Timestamp('2005-12-31 23:00:00+0000', tz='UTC')"
      ]
     },
     "execution_count": 14,
     "metadata": {},
     "output_type": "execute_result"
    }
   ],
   "source": [
    "# finding min date\n",
    "data['Formatted Date'].min()"
   ]
  },
  {
   "cell_type": "code",
   "execution_count": 15,
   "metadata": {},
   "outputs": [
    {
     "data": {
      "text/plain": [
       "Timestamp('2016-12-31 22:00:00+0000', tz='UTC')"
      ]
     },
     "execution_count": 15,
     "metadata": {},
     "output_type": "execute_result"
    }
   ],
   "source": [
    "# finding max date\n",
    "data['Formatted Date'].max()"
   ]
  },
  {
   "cell_type": "code",
   "execution_count": 16,
   "metadata": {},
   "outputs": [
    {
     "data": {
      "text/plain": [
       "Timedelta('4017 days 23:00:00')"
      ]
     },
     "execution_count": 16,
     "metadata": {},
     "output_type": "execute_result"
    }
   ],
   "source": [
    "data['Formatted Date'].max()-data['Formatted Date'].min()"
   ]
  },
  {
   "cell_type": "code",
   "execution_count": 17,
   "metadata": {},
   "outputs": [],
   "source": [
    "# Enhancing the new data by making formatted date as an index values\n",
    "data1=data.set_index('Formatted Date')\n"
   ]
  },
  {
   "cell_type": "code",
   "execution_count": 18,
   "metadata": {},
   "outputs": [
    {
     "data": {
      "text/html": [
       "<div>\n",
       "<style scoped>\n",
       "    .dataframe tbody tr th:only-of-type {\n",
       "        vertical-align: middle;\n",
       "    }\n",
       "\n",
       "    .dataframe tbody tr th {\n",
       "        vertical-align: top;\n",
       "    }\n",
       "\n",
       "    .dataframe thead th {\n",
       "        text-align: right;\n",
       "    }\n",
       "</style>\n",
       "<table border=\"1\" class=\"dataframe\">\n",
       "  <thead>\n",
       "    <tr style=\"text-align: right;\">\n",
       "      <th></th>\n",
       "      <th>Temperature (C)</th>\n",
       "      <th>Apparent Temperature (C)</th>\n",
       "      <th>Humidity</th>\n",
       "      <th>Wind Speed (km/h)</th>\n",
       "      <th>Wind Bearing (degrees)</th>\n",
       "      <th>Visibility (km)</th>\n",
       "      <th>Pressure (millibars)</th>\n",
       "      <th>Day of week</th>\n",
       "    </tr>\n",
       "    <tr>\n",
       "      <th>Formatted Date</th>\n",
       "      <th></th>\n",
       "      <th></th>\n",
       "      <th></th>\n",
       "      <th></th>\n",
       "      <th></th>\n",
       "      <th></th>\n",
       "      <th></th>\n",
       "      <th></th>\n",
       "    </tr>\n",
       "  </thead>\n",
       "  <tbody>\n",
       "    <tr>\n",
       "      <th>2006-03-31 22:00:00+00:00</th>\n",
       "      <td>9.472222</td>\n",
       "      <td>7.388889</td>\n",
       "      <td>0.89</td>\n",
       "      <td>14.1197</td>\n",
       "      <td>251</td>\n",
       "      <td>15.8263</td>\n",
       "      <td>1015.13</td>\n",
       "      <td>Friday</td>\n",
       "    </tr>\n",
       "    <tr>\n",
       "      <th>2006-03-31 23:00:00+00:00</th>\n",
       "      <td>9.355556</td>\n",
       "      <td>7.227778</td>\n",
       "      <td>0.86</td>\n",
       "      <td>14.2646</td>\n",
       "      <td>259</td>\n",
       "      <td>15.8263</td>\n",
       "      <td>1015.63</td>\n",
       "      <td>Friday</td>\n",
       "    </tr>\n",
       "    <tr>\n",
       "      <th>2006-04-01 00:00:00+00:00</th>\n",
       "      <td>9.377778</td>\n",
       "      <td>9.377778</td>\n",
       "      <td>0.89</td>\n",
       "      <td>3.9284</td>\n",
       "      <td>204</td>\n",
       "      <td>14.9569</td>\n",
       "      <td>1015.94</td>\n",
       "      <td>Saturday</td>\n",
       "    </tr>\n",
       "    <tr>\n",
       "      <th>2006-04-01 01:00:00+00:00</th>\n",
       "      <td>8.288889</td>\n",
       "      <td>5.944444</td>\n",
       "      <td>0.83</td>\n",
       "      <td>14.1036</td>\n",
       "      <td>269</td>\n",
       "      <td>15.8263</td>\n",
       "      <td>1016.41</td>\n",
       "      <td>Saturday</td>\n",
       "    </tr>\n",
       "    <tr>\n",
       "      <th>2006-04-01 02:00:00+00:00</th>\n",
       "      <td>8.755556</td>\n",
       "      <td>6.977778</td>\n",
       "      <td>0.83</td>\n",
       "      <td>11.0446</td>\n",
       "      <td>259</td>\n",
       "      <td>15.8263</td>\n",
       "      <td>1016.51</td>\n",
       "      <td>Saturday</td>\n",
       "    </tr>\n",
       "  </tbody>\n",
       "</table>\n",
       "</div>"
      ],
      "text/plain": [
       "                           Temperature (C)  Apparent Temperature (C)  \\\n",
       "Formatted Date                                                         \n",
       "2006-03-31 22:00:00+00:00         9.472222                  7.388889   \n",
       "2006-03-31 23:00:00+00:00         9.355556                  7.227778   \n",
       "2006-04-01 00:00:00+00:00         9.377778                  9.377778   \n",
       "2006-04-01 01:00:00+00:00         8.288889                  5.944444   \n",
       "2006-04-01 02:00:00+00:00         8.755556                  6.977778   \n",
       "\n",
       "                           Humidity  Wind Speed (km/h)  \\\n",
       "Formatted Date                                           \n",
       "2006-03-31 22:00:00+00:00      0.89            14.1197   \n",
       "2006-03-31 23:00:00+00:00      0.86            14.2646   \n",
       "2006-04-01 00:00:00+00:00      0.89             3.9284   \n",
       "2006-04-01 01:00:00+00:00      0.83            14.1036   \n",
       "2006-04-01 02:00:00+00:00      0.83            11.0446   \n",
       "\n",
       "                           Wind Bearing (degrees)  Visibility (km)  \\\n",
       "Formatted Date                                                       \n",
       "2006-03-31 22:00:00+00:00                     251          15.8263   \n",
       "2006-03-31 23:00:00+00:00                     259          15.8263   \n",
       "2006-04-01 00:00:00+00:00                     204          14.9569   \n",
       "2006-04-01 01:00:00+00:00                     269          15.8263   \n",
       "2006-04-01 02:00:00+00:00                     259          15.8263   \n",
       "\n",
       "                           Pressure (millibars) Day of week  \n",
       "Formatted Date                                               \n",
       "2006-03-31 22:00:00+00:00               1015.13      Friday  \n",
       "2006-03-31 23:00:00+00:00               1015.63      Friday  \n",
       "2006-04-01 00:00:00+00:00               1015.94    Saturday  \n",
       "2006-04-01 01:00:00+00:00               1016.41    Saturday  \n",
       "2006-04-01 02:00:00+00:00               1016.51    Saturday  "
      ]
     },
     "execution_count": 18,
     "metadata": {},
     "output_type": "execute_result"
    }
   ],
   "source": [
    "data1.head()"
   ]
  },
  {
   "cell_type": "code",
   "execution_count": 19,
   "metadata": {},
   "outputs": [
    {
     "name": "stderr",
     "output_type": "stream",
     "text": [
      "C:\\Users\\welcome\\AppData\\Local\\Temp\\ipykernel_1588\\3548419944.py:1: FutureWarning: Indexing a DataFrame with a datetimelike index using a single string to slice the rows, like `frame[string]`, is deprecated and will be removed in a future version. Use `frame.loc[string]` instead.\n",
      "  data1['2006-04']['Humidity'].mean()\n"
     ]
    },
    {
     "data": {
      "text/plain": [
       "0.728625"
      ]
     },
     "execution_count": 19,
     "metadata": {},
     "output_type": "execute_result"
    }
   ],
   "source": [
    "data1['2006-04']['Humidity'].mean()"
   ]
  },
  {
   "cell_type": "code",
   "execution_count": 20,
   "metadata": {},
   "outputs": [
    {
     "data": {
      "text/plain": [
       "<AxesSubplot:xlabel='Formatted Date'>"
      ]
     },
     "execution_count": 20,
     "metadata": {},
     "output_type": "execute_result"
    },
    {
     "data": {
      "image/png": "[encoded data removed]",
      "text/plain": [
       "<Figure size 432x288 with 1 Axes>"
      ]
     },
     "metadata": {
      "needs_background": "light"
     },
     "output_type": "display_data"
    }
   ],
   "source": [
    "# ACcording to the rules we need to resample it\n",
    "data2=data1['Humidity'].resample('M').mean()\n",
    "data2.plot()"
   ]
  },
  {
   "cell_type": "code",
   "execution_count": 21,
   "metadata": {},
   "outputs": [
    {
     "data": {
      "text/html": [
       "<div>\n",
       "<style scoped>\n",
       "    .dataframe tbody tr th:only-of-type {\n",
       "        vertical-align: middle;\n",
       "    }\n",
       "\n",
       "    .dataframe tbody tr th {\n",
       "        vertical-align: top;\n",
       "    }\n",
       "\n",
       "    .dataframe thead th {\n",
       "        text-align: right;\n",
       "    }\n",
       "</style>\n",
       "<table border=\"1\" class=\"dataframe\">\n",
       "  <thead>\n",
       "    <tr style=\"text-align: right;\">\n",
       "      <th></th>\n",
       "      <th>Humidity</th>\n",
       "      <th>Apparent Temperature (C)</th>\n",
       "    </tr>\n",
       "    <tr>\n",
       "      <th>Formatted Date</th>\n",
       "      <th></th>\n",
       "      <th></th>\n",
       "    </tr>\n",
       "  </thead>\n",
       "  <tbody>\n",
       "    <tr>\n",
       "      <th>2005-12-31 00:00:00+00:00</th>\n",
       "      <td>0.890000</td>\n",
       "      <td>-4.050000</td>\n",
       "    </tr>\n",
       "    <tr>\n",
       "      <th>2006-01-31 00:00:00+00:00</th>\n",
       "      <td>0.834610</td>\n",
       "      <td>-4.173708</td>\n",
       "    </tr>\n",
       "    <tr>\n",
       "      <th>2006-02-28 00:00:00+00:00</th>\n",
       "      <td>0.843467</td>\n",
       "      <td>-2.990716</td>\n",
       "    </tr>\n",
       "    <tr>\n",
       "      <th>2006-03-31 00:00:00+00:00</th>\n",
       "      <td>0.778737</td>\n",
       "      <td>1.969780</td>\n",
       "    </tr>\n",
       "    <tr>\n",
       "      <th>2006-04-30 00:00:00+00:00</th>\n",
       "      <td>0.728625</td>\n",
       "      <td>12.098827</td>\n",
       "    </tr>\n",
       "  </tbody>\n",
       "</table>\n",
       "</div>"
      ],
      "text/plain": [
       "                           Humidity  Apparent Temperature (C)\n",
       "Formatted Date                                               \n",
       "2005-12-31 00:00:00+00:00  0.890000                 -4.050000\n",
       "2006-01-31 00:00:00+00:00  0.834610                 -4.173708\n",
       "2006-02-28 00:00:00+00:00  0.843467                 -2.990716\n",
       "2006-03-31 00:00:00+00:00  0.778737                  1.969780\n",
       "2006-04-30 00:00:00+00:00  0.728625                 12.098827"
      ]
     },
     "execution_count": 21,
     "metadata": {},
     "output_type": "execute_result"
    }
   ],
   "source": [
    "#Using Aggregate functtion we can resample more columns\n",
    "data2=data1.resample('M').agg({'Humidity':'mean','Apparent Temperature (C)':'mean'})\n",
    "data2.head()"
   ]
  },
  {
   "cell_type": "code",
   "execution_count": 22,
   "metadata": {},
   "outputs": [
    {
     "data": {
      "text/plain": [
       "<AxesSubplot:xlabel='Formatted Date'>"
      ]
     },
     "execution_count": 22,
     "metadata": {},
     "output_type": "execute_result"
    },
    {
     "data": {
      "image/png": "[encoded data removed]",
      "text/plain": [
       "<Figure size 432x288 with 1 Axes>"
      ]
     },
     "metadata": {
      "needs_background": "light"
     },
     "output_type": "display_data"
    }
   ],
   "source": [
    "data2.plot()"
   ]
  },
  {
   "cell_type": "code",
   "execution_count": 23,
   "metadata": {},
   "outputs": [
    {
     "data": {
      "text/plain": [
       "<AxesSubplot:ylabel='Humidity'>"
      ]
     },
     "execution_count": 23,
     "metadata": {},
     "output_type": "execute_result"
    },
    {
     "data": {
      "image/png": "[encoded data removed]",
      "text/plain": [
       "<Figure size 432x288 with 1 Axes>"
      ]
     },
     "metadata": {
      "needs_background": "light"
     },
     "output_type": "display_data"
    }
   ],
   "source": [
    "#checking if there are any outliers\n",
    "sns.boxplot(y=data1['Humidity'])"
   ]
  },
  {
   "cell_type": "code",
   "execution_count": 24,
   "metadata": {},
   "outputs": [
    {
     "data": {
      "text/plain": [
       "<AxesSubplot:ylabel='Apparent Temperature (C)'>"
      ]
     },
     "execution_count": 24,
     "metadata": {},
     "output_type": "execute_result"
    },
    {
     "data": {
      "image/png": "[encoded data removed]",
      "text/plain": [
       "<Figure size 432x288 with 1 Axes>"
      ]
     },
     "metadata": {
      "needs_background": "light"
     },
     "output_type": "display_data"
    }
   ],
   "source": [
    "sns.boxplot(y=data1['Apparent Temperature (C)'])"
   ]
  },
  {
   "cell_type": "code",
   "execution_count": 25,
   "metadata": {},
   "outputs": [
    {
     "data": {
      "text/plain": [
       "<AxesSubplot:ylabel='Temperature (C)'>"
      ]
     },
     "execution_count": 25,
     "metadata": {},
     "output_type": "execute_result"
    },
    {
     "data": {
      "image/png": "[encoded data removed]",
      "text/plain": [
       "<Figure size 432x288 with 1 Axes>"
      ]
     },
     "metadata": {
      "needs_background": "light"
     },
     "output_type": "display_data"
    }
   ],
   "source": [
    "sns.boxplot(y=data1['Temperature (C)'])"
   ]
  },
  {
   "cell_type": "code",
   "execution_count": 26,
   "metadata": {},
   "outputs": [],
   "source": [
    "jan=data2[data2.index.month==1]\n",
    "feb=data2[data2.index.month==2]\n",
    "march=data2[data2.index.month==3]\n",
    "april=data2[data2.index.month==4]\n",
    "may=data2[data2.index.month==5]\n",
    "june=data2[data2.index.month==6]\n",
    "july=data2[data2.index.month==7]\n",
    "aug=data2[data2.index.month==8]\n",
    "sept=data2[data2.index.month==9]\n",
    "oct=data2[data2.index.month==10]\n",
    "nov=data2[data2.index.month==11]\n",
    "dec=data2[data2.index.month==12]"
   ]
  },
  {
   "cell_type": "code",
   "execution_count": 27,
   "metadata": {},
   "outputs": [
    {
     "data": {
      "image/png": "[encoded data removed]",
      "text/plain": [
       "<Figure size 432x288 with 1 Axes>"
      ]
     },
     "metadata": {
      "needs_background": "light"
     },
     "output_type": "display_data"
    }
   ],
   "source": [
    "# Visualising the data of each month from every year and plotting it\n",
    "index=['Apparent Temperature (C)','Humidity']\n",
    "for i in range(len(index)):\n",
    "    plt.plot(jan.loc['2006-04-01':'2016-04-01',index[i]])"
   ]
  },
  {
   "cell_type": "code",
   "execution_count": 28,
   "metadata": {},
   "outputs": [
    {
     "data": {
      "text/html": [
       "<div>\n",
       "<style scoped>\n",
       "    .dataframe tbody tr th:only-of-type {\n",
       "        vertical-align: middle;\n",
       "    }\n",
       "\n",
       "    .dataframe tbody tr th {\n",
       "        vertical-align: top;\n",
       "    }\n",
       "\n",
       "    .dataframe thead th {\n",
       "        text-align: right;\n",
       "    }\n",
       "</style>\n",
       "<table border=\"1\" class=\"dataframe\">\n",
       "  <thead>\n",
       "    <tr style=\"text-align: right;\">\n",
       "      <th></th>\n",
       "      <th>Humidity</th>\n",
       "      <th>Apparent Temperature (C)</th>\n",
       "    </tr>\n",
       "    <tr>\n",
       "      <th>Formatted Date</th>\n",
       "      <th></th>\n",
       "      <th></th>\n",
       "    </tr>\n",
       "  </thead>\n",
       "  <tbody>\n",
       "    <tr>\n",
       "      <th>2006-01-31 00:00:00+00:00</th>\n",
       "      <td>0.834610</td>\n",
       "      <td>-4.173708</td>\n",
       "    </tr>\n",
       "    <tr>\n",
       "      <th>2007-01-31 00:00:00+00:00</th>\n",
       "      <td>0.813495</td>\n",
       "      <td>2.387015</td>\n",
       "    </tr>\n",
       "    <tr>\n",
       "      <th>2008-01-31 00:00:00+00:00</th>\n",
       "      <td>0.819476</td>\n",
       "      <td>-2.069907</td>\n",
       "    </tr>\n",
       "    <tr>\n",
       "      <th>2009-01-31 00:00:00+00:00</th>\n",
       "      <td>0.867621</td>\n",
       "      <td>-3.669937</td>\n",
       "    </tr>\n",
       "    <tr>\n",
       "      <th>2010-01-31 00:00:00+00:00</th>\n",
       "      <td>0.875914</td>\n",
       "      <td>-4.329062</td>\n",
       "    </tr>\n",
       "  </tbody>\n",
       "</table>\n",
       "</div>"
      ],
      "text/plain": [
       "                           Humidity  Apparent Temperature (C)\n",
       "Formatted Date                                               \n",
       "2006-01-31 00:00:00+00:00  0.834610                 -4.173708\n",
       "2007-01-31 00:00:00+00:00  0.813495                  2.387015\n",
       "2008-01-31 00:00:00+00:00  0.819476                 -2.069907\n",
       "2009-01-31 00:00:00+00:00  0.867621                 -3.669937\n",
       "2010-01-31 00:00:00+00:00  0.875914                 -4.329062"
      ]
     },
     "execution_count": 28,
     "metadata": {},
     "output_type": "execute_result"
    }
   ],
   "source": [
    "jan.head()"
   ]
  },
  {
   "cell_type": "code",
   "execution_count": 29,
   "metadata": {},
   "outputs": [
    {
     "data": {
      "text/html": [
       "<div>\n",
       "<style scoped>\n",
       "    .dataframe tbody tr th:only-of-type {\n",
       "        vertical-align: middle;\n",
       "    }\n",
       "\n",
       "    .dataframe tbody tr th {\n",
       "        vertical-align: top;\n",
       "    }\n",
       "\n",
       "    .dataframe thead th {\n",
       "        text-align: right;\n",
       "    }\n",
       "</style>\n",
       "<table border=\"1\" class=\"dataframe\">\n",
       "  <thead>\n",
       "    <tr style=\"text-align: right;\">\n",
       "      <th></th>\n",
       "      <th>Humidity</th>\n",
       "      <th>Apparent Temperature (C)</th>\n",
       "    </tr>\n",
       "    <tr>\n",
       "      <th>Formatted Date</th>\n",
       "      <th></th>\n",
       "      <th></th>\n",
       "    </tr>\n",
       "  </thead>\n",
       "  <tbody>\n",
       "    <tr>\n",
       "      <th>2006-02-28 00:00:00+00:00</th>\n",
       "      <td>0.843467</td>\n",
       "      <td>-2.990716</td>\n",
       "    </tr>\n",
       "    <tr>\n",
       "      <th>2007-02-28 00:00:00+00:00</th>\n",
       "      <td>0.815015</td>\n",
       "      <td>2.639848</td>\n",
       "    </tr>\n",
       "    <tr>\n",
       "      <th>2008-02-29 00:00:00+00:00</th>\n",
       "      <td>0.682615</td>\n",
       "      <td>1.915597</td>\n",
       "    </tr>\n",
       "    <tr>\n",
       "      <th>2009-02-28 00:00:00+00:00</th>\n",
       "      <td>0.821161</td>\n",
       "      <td>-1.641237</td>\n",
       "    </tr>\n",
       "    <tr>\n",
       "      <th>2010-02-28 00:00:00+00:00</th>\n",
       "      <td>0.851682</td>\n",
       "      <td>-1.662045</td>\n",
       "    </tr>\n",
       "  </tbody>\n",
       "</table>\n",
       "</div>"
      ],
      "text/plain": [
       "                           Humidity  Apparent Temperature (C)\n",
       "Formatted Date                                               \n",
       "2006-02-28 00:00:00+00:00  0.843467                 -2.990716\n",
       "2007-02-28 00:00:00+00:00  0.815015                  2.639848\n",
       "2008-02-29 00:00:00+00:00  0.682615                  1.915597\n",
       "2009-02-28 00:00:00+00:00  0.821161                 -1.641237\n",
       "2010-02-28 00:00:00+00:00  0.851682                 -1.662045"
      ]
     },
     "execution_count": 29,
     "metadata": {},
     "output_type": "execute_result"
    }
   ],
   "source": [
    "feb.head()"
   ]
  },
  {
   "cell_type": "code",
   "execution_count": 30,
   "metadata": {},
   "outputs": [
    {
     "data": {
      "image/png": "[encoded data removed]",
      "text/plain": [
       "<Figure size 432x288 with 1 Axes>"
      ]
     },
     "metadata": {
      "needs_background": "light"
     },
     "output_type": "display_data"
    }
   ],
   "source": [
    "index=['Apparent Temperature (C)','Humidity']\n",
    "for i in range(len(index)):\n",
    "    plt.plot(feb.loc['2006-04-01':'2016-04-01',index[i]])"
   ]
  },
  {
   "cell_type": "code",
   "execution_count": 31,
   "metadata": {},
   "outputs": [
    {
     "data": {
      "text/html": [
       "<div>\n",
       "<style scoped>\n",
       "    .dataframe tbody tr th:only-of-type {\n",
       "        vertical-align: middle;\n",
       "    }\n",
       "\n",
       "    .dataframe tbody tr th {\n",
       "        vertical-align: top;\n",
       "    }\n",
       "\n",
       "    .dataframe thead th {\n",
       "        text-align: right;\n",
       "    }\n",
       "</style>\n",
       "<table border=\"1\" class=\"dataframe\">\n",
       "  <thead>\n",
       "    <tr style=\"text-align: right;\">\n",
       "      <th></th>\n",
       "      <th>Humidity</th>\n",
       "      <th>Apparent Temperature (C)</th>\n",
       "    </tr>\n",
       "    <tr>\n",
       "      <th>Formatted Date</th>\n",
       "      <th></th>\n",
       "      <th></th>\n",
       "    </tr>\n",
       "  </thead>\n",
       "  <tbody>\n",
       "    <tr>\n",
       "      <th>2006-03-31 00:00:00+00:00</th>\n",
       "      <td>0.778737</td>\n",
       "      <td>1.969780</td>\n",
       "    </tr>\n",
       "    <tr>\n",
       "      <th>2007-03-31 00:00:00+00:00</th>\n",
       "      <td>0.713884</td>\n",
       "      <td>7.174619</td>\n",
       "    </tr>\n",
       "    <tr>\n",
       "      <th>2008-03-31 00:00:00+00:00</th>\n",
       "      <td>0.668468</td>\n",
       "      <td>5.004353</td>\n",
       "    </tr>\n",
       "    <tr>\n",
       "      <th>2009-03-31 00:00:00+00:00</th>\n",
       "      <td>0.696680</td>\n",
       "      <td>4.280585</td>\n",
       "    </tr>\n",
       "    <tr>\n",
       "      <th>2010-03-31 00:00:00+00:00</th>\n",
       "      <td>0.670161</td>\n",
       "      <td>4.589038</td>\n",
       "    </tr>\n",
       "  </tbody>\n",
       "</table>\n",
       "</div>"
      ],
      "text/plain": [
       "                           Humidity  Apparent Temperature (C)\n",
       "Formatted Date                                               \n",
       "2006-03-31 00:00:00+00:00  0.778737                  1.969780\n",
       "2007-03-31 00:00:00+00:00  0.713884                  7.174619\n",
       "2008-03-31 00:00:00+00:00  0.668468                  5.004353\n",
       "2009-03-31 00:00:00+00:00  0.696680                  4.280585\n",
       "2010-03-31 00:00:00+00:00  0.670161                  4.589038"
      ]
     },
     "execution_count": 31,
     "metadata": {},
     "output_type": "execute_result"
    }
   ],
   "source": [
    "march.head()"
   ]
  },
  {
   "cell_type": "code",
   "execution_count": 32,
   "metadata": {},
   "outputs": [
    {
     "data": {
      "image/png": "[encoded data removed]",
      "text/plain": [
       "<Figure size 432x288 with 1 Axes>"
      ]
     },
     "metadata": {
      "needs_background": "light"
     },
     "output_type": "display_data"
    }
   ],
   "source": [
    "index=['Apparent Temperature (C)','Humidity']\n",
    "for i in range(len(index)):\n",
    "    plt.plot(march.loc['2006-04-01':'2016-04-01',index[i]])"
   ]
  },
  {
   "cell_type": "code",
   "execution_count": 33,
   "metadata": {},
   "outputs": [
    {
     "data": {
      "text/html": [
       "<div>\n",
       "<style scoped>\n",
       "    .dataframe tbody tr th:only-of-type {\n",
       "        vertical-align: middle;\n",
       "    }\n",
       "\n",
       "    .dataframe tbody tr th {\n",
       "        vertical-align: top;\n",
       "    }\n",
       "\n",
       "    .dataframe thead th {\n",
       "        text-align: right;\n",
       "    }\n",
       "</style>\n",
       "<table border=\"1\" class=\"dataframe\">\n",
       "  <thead>\n",
       "    <tr style=\"text-align: right;\">\n",
       "      <th></th>\n",
       "      <th>Humidity</th>\n",
       "      <th>Apparent Temperature (C)</th>\n",
       "    </tr>\n",
       "    <tr>\n",
       "      <th>Formatted Date</th>\n",
       "      <th></th>\n",
       "      <th></th>\n",
       "    </tr>\n",
       "  </thead>\n",
       "  <tbody>\n",
       "    <tr>\n",
       "      <th>2006-04-30 00:00:00+00:00</th>\n",
       "      <td>0.728625</td>\n",
       "      <td>12.098827</td>\n",
       "    </tr>\n",
       "    <tr>\n",
       "      <th>2007-04-30 00:00:00+00:00</th>\n",
       "      <td>0.536361</td>\n",
       "      <td>11.894421</td>\n",
       "    </tr>\n",
       "    <tr>\n",
       "      <th>2008-04-30 00:00:00+00:00</th>\n",
       "      <td>0.693194</td>\n",
       "      <td>11.183688</td>\n",
       "    </tr>\n",
       "    <tr>\n",
       "      <th>2009-04-30 00:00:00+00:00</th>\n",
       "      <td>0.567847</td>\n",
       "      <td>14.267076</td>\n",
       "    </tr>\n",
       "    <tr>\n",
       "      <th>2010-04-30 00:00:00+00:00</th>\n",
       "      <td>0.706875</td>\n",
       "      <td>11.639406</td>\n",
       "    </tr>\n",
       "  </tbody>\n",
       "</table>\n",
       "</div>"
      ],
      "text/plain": [
       "                           Humidity  Apparent Temperature (C)\n",
       "Formatted Date                                               \n",
       "2006-04-30 00:00:00+00:00  0.728625                 12.098827\n",
       "2007-04-30 00:00:00+00:00  0.536361                 11.894421\n",
       "2008-04-30 00:00:00+00:00  0.693194                 11.183688\n",
       "2009-04-30 00:00:00+00:00  0.567847                 14.267076\n",
       "2010-04-30 00:00:00+00:00  0.706875                 11.639406"
      ]
     },
     "execution_count": 33,
     "metadata": {},
     "output_type": "execute_result"
    }
   ],
   "source": [
    "april.head()"
   ]
  },
  {
   "cell_type": "code",
   "execution_count": 34,
   "metadata": {},
   "outputs": [
    {
     "data": {
      "image/png": "[encoded data removed]",
      "text/plain": [
       "<Figure size 432x288 with 1 Axes>"
      ]
     },
     "metadata": {
      "needs_background": "light"
     },
     "output_type": "display_data"
    }
   ],
   "source": [
    "index=['Apparent Temperature (C)','Humidity']\n",
    "for i in range(len(index)):\n",
    "    plt.plot(april.loc['2006-04-01':'2016-04-01',index[i]])"
   ]
  },
  {
   "cell_type": "code",
   "execution_count": 35,
   "metadata": {},
   "outputs": [
    {
     "data": {
      "text/html": [
       "<div>\n",
       "<style scoped>\n",
       "    .dataframe tbody tr th:only-of-type {\n",
       "        vertical-align: middle;\n",
       "    }\n",
       "\n",
       "    .dataframe tbody tr th {\n",
       "        vertical-align: top;\n",
       "    }\n",
       "\n",
       "    .dataframe thead th {\n",
       "        text-align: right;\n",
       "    }\n",
       "</style>\n",
       "<table border=\"1\" class=\"dataframe\">\n",
       "  <thead>\n",
       "    <tr style=\"text-align: right;\">\n",
       "      <th></th>\n",
       "      <th>Humidity</th>\n",
       "      <th>Apparent Temperature (C)</th>\n",
       "    </tr>\n",
       "    <tr>\n",
       "      <th>Formatted Date</th>\n",
       "      <th></th>\n",
       "      <th></th>\n",
       "    </tr>\n",
       "  </thead>\n",
       "  <tbody>\n",
       "    <tr>\n",
       "      <th>2006-05-31 00:00:00+00:00</th>\n",
       "      <td>0.721801</td>\n",
       "      <td>15.539479</td>\n",
       "    </tr>\n",
       "    <tr>\n",
       "      <th>2007-05-31 00:00:00+00:00</th>\n",
       "      <td>0.653253</td>\n",
       "      <td>17.453136</td>\n",
       "    </tr>\n",
       "    <tr>\n",
       "      <th>2008-05-31 00:00:00+00:00</th>\n",
       "      <td>0.663132</td>\n",
       "      <td>17.113583</td>\n",
       "    </tr>\n",
       "    <tr>\n",
       "      <th>2009-05-31 00:00:00+00:00</th>\n",
       "      <td>0.597151</td>\n",
       "      <td>17.691256</td>\n",
       "    </tr>\n",
       "    <tr>\n",
       "      <th>2010-05-31 00:00:00+00:00</th>\n",
       "      <td>0.773091</td>\n",
       "      <td>16.409879</td>\n",
       "    </tr>\n",
       "  </tbody>\n",
       "</table>\n",
       "</div>"
      ],
      "text/plain": [
       "                           Humidity  Apparent Temperature (C)\n",
       "Formatted Date                                               \n",
       "2006-05-31 00:00:00+00:00  0.721801                 15.539479\n",
       "2007-05-31 00:00:00+00:00  0.653253                 17.453136\n",
       "2008-05-31 00:00:00+00:00  0.663132                 17.113583\n",
       "2009-05-31 00:00:00+00:00  0.597151                 17.691256\n",
       "2010-05-31 00:00:00+00:00  0.773091                 16.409879"
      ]
     },
     "execution_count": 35,
     "metadata": {},
     "output_type": "execute_result"
    }
   ],
   "source": [
    "may.head()"
   ]
  },
  {
   "cell_type": "code",
   "execution_count": 36,
   "metadata": {},
   "outputs": [
    {
     "data": {
      "image/png": "[encoded data removed]",
      "text/plain": [
       "<Figure size 432x288 with 1 Axes>"
      ]
     },
     "metadata": {
      "needs_background": "light"
     },
     "output_type": "display_data"
    }
   ],
   "source": [
    "index=['Apparent Temperature (C)','Humidity']\n",
    "for i in range(len(index)):\n",
    "    plt.plot(may.loc['2006-04-01':'2016-04-01',index[i]])"
   ]
  },
  {
   "cell_type": "code",
   "execution_count": 37,
   "metadata": {},
   "outputs": [
    {
     "data": {
      "text/html": [
       "<div>\n",
       "<style scoped>\n",
       "    .dataframe tbody tr th:only-of-type {\n",
       "        vertical-align: middle;\n",
       "    }\n",
       "\n",
       "    .dataframe tbody tr th {\n",
       "        vertical-align: top;\n",
       "    }\n",
       "\n",
       "    .dataframe thead th {\n",
       "        text-align: right;\n",
       "    }\n",
       "</style>\n",
       "<table border=\"1\" class=\"dataframe\">\n",
       "  <thead>\n",
       "    <tr style=\"text-align: right;\">\n",
       "      <th></th>\n",
       "      <th>Humidity</th>\n",
       "      <th>Apparent Temperature (C)</th>\n",
       "    </tr>\n",
       "    <tr>\n",
       "      <th>Formatted Date</th>\n",
       "      <th></th>\n",
       "      <th></th>\n",
       "    </tr>\n",
       "  </thead>\n",
       "  <tbody>\n",
       "    <tr>\n",
       "      <th>2006-06-30 00:00:00+00:00</th>\n",
       "      <td>0.747125</td>\n",
       "      <td>19.535965</td>\n",
       "    </tr>\n",
       "    <tr>\n",
       "      <th>2007-06-30 00:00:00+00:00</th>\n",
       "      <td>0.616486</td>\n",
       "      <td>21.883102</td>\n",
       "    </tr>\n",
       "    <tr>\n",
       "      <th>2008-06-30 00:00:00+00:00</th>\n",
       "      <td>0.679861</td>\n",
       "      <td>21.513750</td>\n",
       "    </tr>\n",
       "    <tr>\n",
       "      <th>2009-06-30 00:00:00+00:00</th>\n",
       "      <td>0.675944</td>\n",
       "      <td>19.526790</td>\n",
       "    </tr>\n",
       "    <tr>\n",
       "      <th>2010-06-30 00:00:00+00:00</th>\n",
       "      <td>0.778347</td>\n",
       "      <td>20.340571</td>\n",
       "    </tr>\n",
       "  </tbody>\n",
       "</table>\n",
       "</div>"
      ],
      "text/plain": [
       "                           Humidity  Apparent Temperature (C)\n",
       "Formatted Date                                               \n",
       "2006-06-30 00:00:00+00:00  0.747125                 19.535965\n",
       "2007-06-30 00:00:00+00:00  0.616486                 21.883102\n",
       "2008-06-30 00:00:00+00:00  0.679861                 21.513750\n",
       "2009-06-30 00:00:00+00:00  0.675944                 19.526790\n",
       "2010-06-30 00:00:00+00:00  0.778347                 20.340571"
      ]
     },
     "execution_count": 37,
     "metadata": {},
     "output_type": "execute_result"
    }
   ],
   "source": [
    "june.head()"
   ]
  },
  {
   "cell_type": "code",
   "execution_count": 38,
   "metadata": {},
   "outputs": [
    {
     "data": {
      "image/png": "[encoded data removed]",
      "text/plain": [
       "<Figure size 432x288 with 1 Axes>"
      ]
     },
     "metadata": {
      "needs_background": "light"
     },
     "output_type": "display_data"
    }
   ],
   "source": [
    "index=['Apparent Temperature (C)','Humidity']\n",
    "for i in range(len(index)):\n",
    "    plt.plot(june.loc['2006-04-01':'2016-04-01',index[i]])"
   ]
  },
  {
   "cell_type": "code",
   "execution_count": 39,
   "metadata": {},
   "outputs": [
    {
     "data": {
      "text/html": [
       "<div>\n",
       "<style scoped>\n",
       "    .dataframe tbody tr th:only-of-type {\n",
       "        vertical-align: middle;\n",
       "    }\n",
       "\n",
       "    .dataframe tbody tr th {\n",
       "        vertical-align: top;\n",
       "    }\n",
       "\n",
       "    .dataframe thead th {\n",
       "        text-align: right;\n",
       "    }\n",
       "</style>\n",
       "<table border=\"1\" class=\"dataframe\">\n",
       "  <thead>\n",
       "    <tr style=\"text-align: right;\">\n",
       "      <th></th>\n",
       "      <th>Humidity</th>\n",
       "      <th>Apparent Temperature (C)</th>\n",
       "    </tr>\n",
       "    <tr>\n",
       "      <th>Formatted Date</th>\n",
       "      <th></th>\n",
       "      <th></th>\n",
       "    </tr>\n",
       "  </thead>\n",
       "  <tbody>\n",
       "    <tr>\n",
       "      <th>2006-07-31 00:00:00+00:00</th>\n",
       "      <td>0.656304</td>\n",
       "      <td>23.595348</td>\n",
       "    </tr>\n",
       "    <tr>\n",
       "      <th>2007-07-31 00:00:00+00:00</th>\n",
       "      <td>0.491250</td>\n",
       "      <td>23.348081</td>\n",
       "    </tr>\n",
       "    <tr>\n",
       "      <th>2008-07-31 00:00:00+00:00</th>\n",
       "      <td>0.616022</td>\n",
       "      <td>21.765562</td>\n",
       "    </tr>\n",
       "    <tr>\n",
       "      <th>2009-07-31 00:00:00+00:00</th>\n",
       "      <td>0.600215</td>\n",
       "      <td>23.091614</td>\n",
       "    </tr>\n",
       "    <tr>\n",
       "      <th>2010-07-31 00:00:00+00:00</th>\n",
       "      <td>0.755323</td>\n",
       "      <td>23.699447</td>\n",
       "    </tr>\n",
       "  </tbody>\n",
       "</table>\n",
       "</div>"
      ],
      "text/plain": [
       "                           Humidity  Apparent Temperature (C)\n",
       "Formatted Date                                               \n",
       "2006-07-31 00:00:00+00:00  0.656304                 23.595348\n",
       "2007-07-31 00:00:00+00:00  0.491250                 23.348081\n",
       "2008-07-31 00:00:00+00:00  0.616022                 21.765562\n",
       "2009-07-31 00:00:00+00:00  0.600215                 23.091614\n",
       "2010-07-31 00:00:00+00:00  0.755323                 23.699447"
      ]
     },
     "execution_count": 39,
     "metadata": {},
     "output_type": "execute_result"
    }
   ],
   "source": [
    "july.head()"
   ]
  },
  {
   "cell_type": "code",
   "execution_count": 40,
   "metadata": {},
   "outputs": [
    {
     "data": {
      "image/png": "[encoded data removed]",
      "text/plain": [
       "<Figure size 432x288 with 1 Axes>"
      ]
     },
     "metadata": {
      "needs_background": "light"
     },
     "output_type": "display_data"
    }
   ],
   "source": [
    "index=['Apparent Temperature (C)','Humidity']\n",
    "for i in range(len(index)):\n",
    "    plt.plot(july.loc['2006-04-01':'2016-04-01',index[i]])"
   ]
  },
  {
   "cell_type": "code",
   "execution_count": 41,
   "metadata": {},
   "outputs": [
    {
     "data": {
      "text/html": [
       "<div>\n",
       "<style scoped>\n",
       "    .dataframe tbody tr th:only-of-type {\n",
       "        vertical-align: middle;\n",
       "    }\n",
       "\n",
       "    .dataframe tbody tr th {\n",
       "        vertical-align: top;\n",
       "    }\n",
       "\n",
       "    .dataframe thead th {\n",
       "        text-align: right;\n",
       "    }\n",
       "</style>\n",
       "<table border=\"1\" class=\"dataframe\">\n",
       "  <thead>\n",
       "    <tr style=\"text-align: right;\">\n",
       "      <th></th>\n",
       "      <th>Humidity</th>\n",
       "      <th>Apparent Temperature (C)</th>\n",
       "    </tr>\n",
       "    <tr>\n",
       "      <th>Formatted Date</th>\n",
       "      <th></th>\n",
       "      <th></th>\n",
       "    </tr>\n",
       "  </thead>\n",
       "  <tbody>\n",
       "    <tr>\n",
       "      <th>2006-08-31 00:00:00+00:00</th>\n",
       "      <td>0.760753</td>\n",
       "      <td>19.528241</td>\n",
       "    </tr>\n",
       "    <tr>\n",
       "      <th>2007-08-31 00:00:00+00:00</th>\n",
       "      <td>0.562876</td>\n",
       "      <td>23.079689</td>\n",
       "    </tr>\n",
       "    <tr>\n",
       "      <th>2008-08-31 00:00:00+00:00</th>\n",
       "      <td>0.551895</td>\n",
       "      <td>22.438852</td>\n",
       "    </tr>\n",
       "    <tr>\n",
       "      <th>2009-08-31 00:00:00+00:00</th>\n",
       "      <td>0.597231</td>\n",
       "      <td>22.794205</td>\n",
       "    </tr>\n",
       "    <tr>\n",
       "      <th>2010-08-31 00:00:00+00:00</th>\n",
       "      <td>0.742786</td>\n",
       "      <td>21.906713</td>\n",
       "    </tr>\n",
       "  </tbody>\n",
       "</table>\n",
       "</div>"
      ],
      "text/plain": [
       "                           Humidity  Apparent Temperature (C)\n",
       "Formatted Date                                               \n",
       "2006-08-31 00:00:00+00:00  0.760753                 19.528241\n",
       "2007-08-31 00:00:00+00:00  0.562876                 23.079689\n",
       "2008-08-31 00:00:00+00:00  0.551895                 22.438852\n",
       "2009-08-31 00:00:00+00:00  0.597231                 22.794205\n",
       "2010-08-31 00:00:00+00:00  0.742786                 21.906713"
      ]
     },
     "execution_count": 41,
     "metadata": {},
     "output_type": "execute_result"
    }
   ],
   "source": [
    "aug.head()"
   ]
  },
  {
   "cell_type": "code",
   "execution_count": 42,
   "metadata": {},
   "outputs": [
    {
     "data": {
      "image/png": "[encoded data removed]",
      "text/plain": [
       "<Figure size 432x288 with 1 Axes>"
      ]
     },
     "metadata": {
      "needs_background": "light"
     },
     "output_type": "display_data"
    }
   ],
   "source": [
    "index=['Apparent Temperature (C)','Humidity']\n",
    "for i in range(len(index)):\n",
    "    plt.plot(aug.loc['2006-04-01':'2016-04-01',index[i]])"
   ]
  },
  {
   "cell_type": "code",
   "execution_count": 43,
   "metadata": {},
   "outputs": [
    {
     "data": {
      "text/html": [
       "<div>\n",
       "<style scoped>\n",
       "    .dataframe tbody tr th:only-of-type {\n",
       "        vertical-align: middle;\n",
       "    }\n",
       "\n",
       "    .dataframe tbody tr th {\n",
       "        vertical-align: top;\n",
       "    }\n",
       "\n",
       "    .dataframe thead th {\n",
       "        text-align: right;\n",
       "    }\n",
       "</style>\n",
       "<table border=\"1\" class=\"dataframe\">\n",
       "  <thead>\n",
       "    <tr style=\"text-align: right;\">\n",
       "      <th></th>\n",
       "      <th>Humidity</th>\n",
       "      <th>Apparent Temperature (C)</th>\n",
       "    </tr>\n",
       "    <tr>\n",
       "      <th>Formatted Date</th>\n",
       "      <th></th>\n",
       "      <th></th>\n",
       "    </tr>\n",
       "  </thead>\n",
       "  <tbody>\n",
       "    <tr>\n",
       "      <th>2006-09-30 00:00:00+00:00</th>\n",
       "      <td>0.689444</td>\n",
       "      <td>18.155571</td>\n",
       "    </tr>\n",
       "    <tr>\n",
       "      <th>2007-09-30 00:00:00+00:00</th>\n",
       "      <td>0.682708</td>\n",
       "      <td>14.328457</td>\n",
       "    </tr>\n",
       "    <tr>\n",
       "      <th>2008-09-30 00:00:00+00:00</th>\n",
       "      <td>0.690722</td>\n",
       "      <td>15.489606</td>\n",
       "    </tr>\n",
       "    <tr>\n",
       "      <th>2009-09-30 00:00:00+00:00</th>\n",
       "      <td>0.596764</td>\n",
       "      <td>19.322353</td>\n",
       "    </tr>\n",
       "    <tr>\n",
       "      <th>2010-09-30 00:00:00+00:00</th>\n",
       "      <td>0.826806</td>\n",
       "      <td>15.549414</td>\n",
       "    </tr>\n",
       "  </tbody>\n",
       "</table>\n",
       "</div>"
      ],
      "text/plain": [
       "                           Humidity  Apparent Temperature (C)\n",
       "Formatted Date                                               \n",
       "2006-09-30 00:00:00+00:00  0.689444                 18.155571\n",
       "2007-09-30 00:00:00+00:00  0.682708                 14.328457\n",
       "2008-09-30 00:00:00+00:00  0.690722                 15.489606\n",
       "2009-09-30 00:00:00+00:00  0.596764                 19.322353\n",
       "2010-09-30 00:00:00+00:00  0.826806                 15.549414"
      ]
     },
     "execution_count": 43,
     "metadata": {},
     "output_type": "execute_result"
    }
   ],
   "source": [
    "sept.head()"
   ]
  },
  {
   "cell_type": "code",
   "execution_count": 44,
   "metadata": {},
   "outputs": [
    {
     "data": {
      "image/png": "[encoded data removed]",
      "text/plain": [
       "<Figure size 432x288 with 1 Axes>"
      ]
     },
     "metadata": {
      "needs_background": "light"
     },
     "output_type": "display_data"
    }
   ],
   "source": [
    "index=['Apparent Temperature (C)','Humidity']\n",
    "for i in range(len(index)):\n",
    "    plt.plot(sept.loc['2006-04-01':'2016-04-01',index[i]])"
   ]
  },
  {
   "cell_type": "code",
   "execution_count": 45,
   "metadata": {},
   "outputs": [
    {
     "data": {
      "text/html": [
       "<div>\n",
       "<style scoped>\n",
       "    .dataframe tbody tr th:only-of-type {\n",
       "        vertical-align: middle;\n",
       "    }\n",
       "\n",
       "    .dataframe tbody tr th {\n",
       "        vertical-align: top;\n",
       "    }\n",
       "\n",
       "    .dataframe thead th {\n",
       "        text-align: right;\n",
       "    }\n",
       "</style>\n",
       "<table border=\"1\" class=\"dataframe\">\n",
       "  <thead>\n",
       "    <tr style=\"text-align: right;\">\n",
       "      <th></th>\n",
       "      <th>Humidity</th>\n",
       "      <th>Apparent Temperature (C)</th>\n",
       "    </tr>\n",
       "    <tr>\n",
       "      <th>Formatted Date</th>\n",
       "      <th></th>\n",
       "      <th></th>\n",
       "    </tr>\n",
       "  </thead>\n",
       "  <tbody>\n",
       "    <tr>\n",
       "      <th>2006-10-31 00:00:00+00:00</th>\n",
       "      <td>0.733642</td>\n",
       "      <td>12.398678</td>\n",
       "    </tr>\n",
       "    <tr>\n",
       "      <th>2007-10-31 00:00:00+00:00</th>\n",
       "      <td>0.740954</td>\n",
       "      <td>9.662612</td>\n",
       "    </tr>\n",
       "    <tr>\n",
       "      <th>2008-10-31 00:00:00+00:00</th>\n",
       "      <td>0.753911</td>\n",
       "      <td>12.253390</td>\n",
       "    </tr>\n",
       "    <tr>\n",
       "      <th>2009-10-31 00:00:00+00:00</th>\n",
       "      <td>0.763468</td>\n",
       "      <td>10.433535</td>\n",
       "    </tr>\n",
       "    <tr>\n",
       "      <th>2010-10-31 00:00:00+00:00</th>\n",
       "      <td>0.815538</td>\n",
       "      <td>8.017145</td>\n",
       "    </tr>\n",
       "  </tbody>\n",
       "</table>\n",
       "</div>"
      ],
      "text/plain": [
       "                           Humidity  Apparent Temperature (C)\n",
       "Formatted Date                                               \n",
       "2006-10-31 00:00:00+00:00  0.733642                 12.398678\n",
       "2007-10-31 00:00:00+00:00  0.740954                  9.662612\n",
       "2008-10-31 00:00:00+00:00  0.753911                 12.253390\n",
       "2009-10-31 00:00:00+00:00  0.763468                 10.433535\n",
       "2010-10-31 00:00:00+00:00  0.815538                  8.017145"
      ]
     },
     "execution_count": 45,
     "metadata": {},
     "output_type": "execute_result"
    }
   ],
   "source": [
    "oct.head()"
   ]
  },
  {
   "cell_type": "code",
   "execution_count": 46,
   "metadata": {},
   "outputs": [
    {
     "data": {
      "image/png": "[encoded data removed]",
      "text/plain": [
       "<Figure size 432x288 with 1 Axes>"
      ]
     },
     "metadata": {
      "needs_background": "light"
     },
     "output_type": "display_data"
    }
   ],
   "source": [
    "index=['Apparent Temperature (C)','Humidity']\n",
    "for i in range(len(index)):\n",
    "    plt.plot(oct.loc['2006-04-01':'2016-04-01',index[i]])"
   ]
  },
  {
   "cell_type": "code",
   "execution_count": 47,
   "metadata": {},
   "outputs": [
    {
     "data": {
      "text/html": [
       "<div>\n",
       "<style scoped>\n",
       "    .dataframe tbody tr th:only-of-type {\n",
       "        vertical-align: middle;\n",
       "    }\n",
       "\n",
       "    .dataframe tbody tr th {\n",
       "        vertical-align: top;\n",
       "    }\n",
       "\n",
       "    .dataframe thead th {\n",
       "        text-align: right;\n",
       "    }\n",
       "</style>\n",
       "<table border=\"1\" class=\"dataframe\">\n",
       "  <thead>\n",
       "    <tr style=\"text-align: right;\">\n",
       "      <th></th>\n",
       "      <th>Humidity</th>\n",
       "      <th>Apparent Temperature (C)</th>\n",
       "    </tr>\n",
       "    <tr>\n",
       "      <th>Formatted Date</th>\n",
       "      <th></th>\n",
       "      <th></th>\n",
       "    </tr>\n",
       "  </thead>\n",
       "  <tbody>\n",
       "    <tr>\n",
       "      <th>2006-11-30 00:00:00+00:00</th>\n",
       "      <td>0.812722</td>\n",
       "      <td>5.328310</td>\n",
       "    </tr>\n",
       "    <tr>\n",
       "      <th>2007-11-30 00:00:00+00:00</th>\n",
       "      <td>0.801444</td>\n",
       "      <td>1.218225</td>\n",
       "    </tr>\n",
       "    <tr>\n",
       "      <th>2008-11-30 00:00:00+00:00</th>\n",
       "      <td>0.766972</td>\n",
       "      <td>5.415039</td>\n",
       "    </tr>\n",
       "    <tr>\n",
       "      <th>2009-11-30 00:00:00+00:00</th>\n",
       "      <td>0.865292</td>\n",
       "      <td>6.177222</td>\n",
       "    </tr>\n",
       "    <tr>\n",
       "      <th>2010-11-30 00:00:00+00:00</th>\n",
       "      <td>0.858722</td>\n",
       "      <td>7.440934</td>\n",
       "    </tr>\n",
       "  </tbody>\n",
       "</table>\n",
       "</div>"
      ],
      "text/plain": [
       "                           Humidity  Apparent Temperature (C)\n",
       "Formatted Date                                               \n",
       "2006-11-30 00:00:00+00:00  0.812722                  5.328310\n",
       "2007-11-30 00:00:00+00:00  0.801444                  1.218225\n",
       "2008-11-30 00:00:00+00:00  0.766972                  5.415039\n",
       "2009-11-30 00:00:00+00:00  0.865292                  6.177222\n",
       "2010-11-30 00:00:00+00:00  0.858722                  7.440934"
      ]
     },
     "execution_count": 47,
     "metadata": {},
     "output_type": "execute_result"
    }
   ],
   "source": [
    "nov.head()"
   ]
  },
  {
   "cell_type": "code",
   "execution_count": 48,
   "metadata": {},
   "outputs": [
    {
     "data": {
      "image/png": "[encoded data removed]",
      "text/plain": [
       "<Figure size 432x288 with 1 Axes>"
      ]
     },
     "metadata": {
      "needs_background": "light"
     },
     "output_type": "display_data"
    }
   ],
   "source": [
    "index=['Apparent Temperature (C)','Humidity']\n",
    "for i in range(len(index)):\n",
    "    plt.plot(nov.loc['2006-04-01':'2016-04-01',index[i]])"
   ]
  },
  {
   "cell_type": "code",
   "execution_count": 49,
   "metadata": {},
   "outputs": [
    {
     "data": {
      "text/html": [
       "<div>\n",
       "<style scoped>\n",
       "    .dataframe tbody tr th:only-of-type {\n",
       "        vertical-align: middle;\n",
       "    }\n",
       "\n",
       "    .dataframe tbody tr th {\n",
       "        vertical-align: top;\n",
       "    }\n",
       "\n",
       "    .dataframe thead th {\n",
       "        text-align: right;\n",
       "    }\n",
       "</style>\n",
       "<table border=\"1\" class=\"dataframe\">\n",
       "  <thead>\n",
       "    <tr style=\"text-align: right;\">\n",
       "      <th></th>\n",
       "      <th>Humidity</th>\n",
       "      <th>Apparent Temperature (C)</th>\n",
       "    </tr>\n",
       "    <tr>\n",
       "      <th>Formatted Date</th>\n",
       "      <th></th>\n",
       "      <th></th>\n",
       "    </tr>\n",
       "  </thead>\n",
       "  <tbody>\n",
       "    <tr>\n",
       "      <th>2005-12-31 00:00:00+00:00</th>\n",
       "      <td>0.890000</td>\n",
       "      <td>-4.050000</td>\n",
       "    </tr>\n",
       "    <tr>\n",
       "      <th>2006-12-31 00:00:00+00:00</th>\n",
       "      <td>0.905376</td>\n",
       "      <td>0.107310</td>\n",
       "    </tr>\n",
       "    <tr>\n",
       "      <th>2007-12-31 00:00:00+00:00</th>\n",
       "      <td>0.856250</td>\n",
       "      <td>-2.964897</td>\n",
       "    </tr>\n",
       "    <tr>\n",
       "      <th>2008-12-31 00:00:00+00:00</th>\n",
       "      <td>0.828226</td>\n",
       "      <td>0.327389</td>\n",
       "    </tr>\n",
       "    <tr>\n",
       "      <th>2009-12-31 00:00:00+00:00</th>\n",
       "      <td>0.844637</td>\n",
       "      <td>-0.169086</td>\n",
       "    </tr>\n",
       "  </tbody>\n",
       "</table>\n",
       "</div>"
      ],
      "text/plain": [
       "                           Humidity  Apparent Temperature (C)\n",
       "Formatted Date                                               \n",
       "2005-12-31 00:00:00+00:00  0.890000                 -4.050000\n",
       "2006-12-31 00:00:00+00:00  0.905376                  0.107310\n",
       "2007-12-31 00:00:00+00:00  0.856250                 -2.964897\n",
       "2008-12-31 00:00:00+00:00  0.828226                  0.327389\n",
       "2009-12-31 00:00:00+00:00  0.844637                 -0.169086"
      ]
     },
     "execution_count": 49,
     "metadata": {},
     "output_type": "execute_result"
    }
   ],
   "source": [
    "dec.head()"
   ]
  },
  {
   "cell_type": "code",
   "execution_count": 50,
   "metadata": {},
   "outputs": [
    {
     "data": {
      "image/png": "[encoded data removed]",
      "text/plain": [
       "<Figure size 432x288 with 1 Axes>"
      ]
     },
     "metadata": {
      "needs_background": "light"
     },
     "output_type": "display_data"
    }
   ],
   "source": [
    "index=['Apparent Temperature (C)','Humidity']\n",
    "for i in range(len(index)):\n",
    "    plt.plot(dec.loc['2006-04-01':'2016-04-01',index[i]])"
   ]
  },
  {
   "cell_type": "code",
   "execution_count": 51,
   "metadata": {},
   "outputs": [
    {
     "name": "stderr",
     "output_type": "stream",
     "text": [
      "Done! Use 'show' commands to display/save.   |██████████| [100%]   00:00 -> (00:00 left)\n"
     ]
    },
    {
     "name": "stdout",
     "output_type": "stream",
     "text": [
      "Report analyze.html was generated.\n"
     ]
    }
   ],
   "source": [
    "# analysing the dataset and showing the visualizations using sweetviz tool\n",
    "analyze_report = sv.analyze(data1)\n",
    "analyze_report.show_html('analyze.html', open_browser=False)"
   ]
  },
  {
   "cell_type": "code",
   "execution_count": 52,
   "metadata": {},
   "outputs": [
    {
     "data": {
      "text/html": [
       "<div>\n",
       "<style scoped>\n",
       "    .dataframe tbody tr th:only-of-type {\n",
       "        vertical-align: middle;\n",
       "    }\n",
       "\n",
       "    .dataframe tbody tr th {\n",
       "        vertical-align: top;\n",
       "    }\n",
       "\n",
       "    .dataframe thead th {\n",
       "        text-align: right;\n",
       "    }\n",
       "</style>\n",
       "<table border=\"1\" class=\"dataframe\">\n",
       "  <thead>\n",
       "    <tr style=\"text-align: right;\">\n",
       "      <th></th>\n",
       "      <th>Temperature (C)</th>\n",
       "      <th>Apparent Temperature (C)</th>\n",
       "      <th>Humidity</th>\n",
       "      <th>Wind Speed (km/h)</th>\n",
       "      <th>Wind Bearing (degrees)</th>\n",
       "      <th>Visibility (km)</th>\n",
       "      <th>Pressure (millibars)</th>\n",
       "      <th>Day of week</th>\n",
       "    </tr>\n",
       "    <tr>\n",
       "      <th>Formatted Date</th>\n",
       "      <th></th>\n",
       "      <th></th>\n",
       "      <th></th>\n",
       "      <th></th>\n",
       "      <th></th>\n",
       "      <th></th>\n",
       "      <th></th>\n",
       "      <th></th>\n",
       "    </tr>\n",
       "  </thead>\n",
       "  <tbody>\n",
       "    <tr>\n",
       "      <th>2006-03-31 22:00:00+00:00</th>\n",
       "      <td>9.472222</td>\n",
       "      <td>7.388889</td>\n",
       "      <td>0.89</td>\n",
       "      <td>14.1197</td>\n",
       "      <td>251</td>\n",
       "      <td>15.8263</td>\n",
       "      <td>1015.13</td>\n",
       "      <td>Friday</td>\n",
       "    </tr>\n",
       "    <tr>\n",
       "      <th>2006-03-31 23:00:00+00:00</th>\n",
       "      <td>9.355556</td>\n",
       "      <td>7.227778</td>\n",
       "      <td>0.86</td>\n",
       "      <td>14.2646</td>\n",
       "      <td>259</td>\n",
       "      <td>15.8263</td>\n",
       "      <td>1015.63</td>\n",
       "      <td>Friday</td>\n",
       "    </tr>\n",
       "    <tr>\n",
       "      <th>2006-04-01 00:00:00+00:00</th>\n",
       "      <td>9.377778</td>\n",
       "      <td>9.377778</td>\n",
       "      <td>0.89</td>\n",
       "      <td>3.9284</td>\n",
       "      <td>204</td>\n",
       "      <td>14.9569</td>\n",
       "      <td>1015.94</td>\n",
       "      <td>Saturday</td>\n",
       "    </tr>\n",
       "    <tr>\n",
       "      <th>2006-04-01 01:00:00+00:00</th>\n",
       "      <td>8.288889</td>\n",
       "      <td>5.944444</td>\n",
       "      <td>0.83</td>\n",
       "      <td>14.1036</td>\n",
       "      <td>269</td>\n",
       "      <td>15.8263</td>\n",
       "      <td>1016.41</td>\n",
       "      <td>Saturday</td>\n",
       "    </tr>\n",
       "    <tr>\n",
       "      <th>2006-04-01 02:00:00+00:00</th>\n",
       "      <td>8.755556</td>\n",
       "      <td>6.977778</td>\n",
       "      <td>0.83</td>\n",
       "      <td>11.0446</td>\n",
       "      <td>259</td>\n",
       "      <td>15.8263</td>\n",
       "      <td>1016.51</td>\n",
       "      <td>Saturday</td>\n",
       "    </tr>\n",
       "  </tbody>\n",
       "</table>\n",
       "</div>"
      ],
      "text/plain": [
       "                           Temperature (C)  Apparent Temperature (C)  \\\n",
       "Formatted Date                                                         \n",
       "2006-03-31 22:00:00+00:00         9.472222                  7.388889   \n",
       "2006-03-31 23:00:00+00:00         9.355556                  7.227778   \n",
       "2006-04-01 00:00:00+00:00         9.377778                  9.377778   \n",
       "2006-04-01 01:00:00+00:00         8.288889                  5.944444   \n",
       "2006-04-01 02:00:00+00:00         8.755556                  6.977778   \n",
       "\n",
       "                           Humidity  Wind Speed (km/h)  \\\n",
       "Formatted Date                                           \n",
       "2006-03-31 22:00:00+00:00      0.89            14.1197   \n",
       "2006-03-31 23:00:00+00:00      0.86            14.2646   \n",
       "2006-04-01 00:00:00+00:00      0.89             3.9284   \n",
       "2006-04-01 01:00:00+00:00      0.83            14.1036   \n",
       "2006-04-01 02:00:00+00:00      0.83            11.0446   \n",
       "\n",
       "                           Wind Bearing (degrees)  Visibility (km)  \\\n",
       "Formatted Date                                                       \n",
       "2006-03-31 22:00:00+00:00                     251          15.8263   \n",
       "2006-03-31 23:00:00+00:00                     259          15.8263   \n",
       "2006-04-01 00:00:00+00:00                     204          14.9569   \n",
       "2006-04-01 01:00:00+00:00                     269          15.8263   \n",
       "2006-04-01 02:00:00+00:00                     259          15.8263   \n",
       "\n",
       "                           Pressure (millibars) Day of week  \n",
       "Formatted Date                                               \n",
       "2006-03-31 22:00:00+00:00               1015.13      Friday  \n",
       "2006-03-31 23:00:00+00:00               1015.63      Friday  \n",
       "2006-04-01 00:00:00+00:00               1015.94    Saturday  \n",
       "2006-04-01 01:00:00+00:00               1016.41    Saturday  \n",
       "2006-04-01 02:00:00+00:00               1016.51    Saturday  "
      ]
     },
     "execution_count": 52,
     "metadata": {},
     "output_type": "execute_result"
    }
   ],
   "source": [
    "data1.head()"
   ]
  },
  {
   "cell_type": "code",
   "execution_count": 53,
   "metadata": {},
   "outputs": [
    {
     "data": {
      "text/plain": [
       "Formatted Date\n",
       "2006-03-31 22:00:00+00:00     True\n",
       "2006-03-31 23:00:00+00:00     True\n",
       "2006-04-01 00:00:00+00:00    False\n",
       "2006-04-01 01:00:00+00:00     True\n",
       "2006-04-01 02:00:00+00:00    False\n",
       "Name: Wind Speed (km/h), dtype: bool"
      ]
     },
     "execution_count": 53,
     "metadata": {},
     "output_type": "execute_result"
    }
   ],
   "source": [
    "# Checking which month having a greater wind speed\n",
    "\n",
    "data2=data1['Wind Speed (km/h)']>13\n",
    "data2.head()"
   ]
  },
  {
   "cell_type": "code",
   "execution_count": 54,
   "metadata": {},
   "outputs": [
    {
     "data": {
      "text/plain": [
       "<AxesSubplot:xlabel='Day of week', ylabel='Temperature (C)'>"
      ]
     },
     "execution_count": 54,
     "metadata": {},
     "output_type": "execute_result"
    },
    {
     "data": {
      "image/png": "[encoded data removed]",
      "text/plain": [
       "<Figure size 600x400 with 1 Axes>"
      ]
     },
     "metadata": {},
     "output_type": "display_data"
    }
   ],
   "source": [
    "sns.barplot(x=data1['Day of week'],y=data1['Temperature (C)'])"
   ]
  },
  {
   "cell_type": "code",
   "execution_count": 55,
   "metadata": {},
   "outputs": [],
   "source": [
    "#making analysis with respect to year\n",
    "data2=data1.reset_index()\n"
   ]
  },
  {
   "cell_type": "code",
   "execution_count": 56,
   "metadata": {},
   "outputs": [],
   "source": [
    "data2[\"month\"]=pd.to_datetime(data2[\"Formatted Date\"],format=\"%b-%y\")\n"
   ]
  },
  {
   "cell_type": "code",
   "execution_count": 57,
   "metadata": {},
   "outputs": [
    {
     "data": {
      "text/html": [
       "<div>\n",
       "<style scoped>\n",
       "    .dataframe tbody tr th:only-of-type {\n",
       "        vertical-align: middle;\n",
       "    }\n",
       "\n",
       "    .dataframe tbody tr th {\n",
       "        vertical-align: top;\n",
       "    }\n",
       "\n",
       "    .dataframe thead th {\n",
       "        text-align: right;\n",
       "    }\n",
       "</style>\n",
       "<table border=\"1\" class=\"dataframe\">\n",
       "  <thead>\n",
       "    <tr style=\"text-align: right;\">\n",
       "      <th></th>\n",
       "      <th>Formatted Date</th>\n",
       "      <th>Temperature (C)</th>\n",
       "      <th>Apparent Temperature (C)</th>\n",
       "      <th>Humidity</th>\n",
       "      <th>Wind Speed (km/h)</th>\n",
       "      <th>Wind Bearing (degrees)</th>\n",
       "      <th>Visibility (km)</th>\n",
       "      <th>Pressure (millibars)</th>\n",
       "      <th>Day of week</th>\n",
       "      <th>month</th>\n",
       "      <th>m</th>\n",
       "      <th>y</th>\n",
       "    </tr>\n",
       "  </thead>\n",
       "  <tbody>\n",
       "    <tr>\n",
       "      <th>0</th>\n",
       "      <td>2006-03-31 22:00:00+00:00</td>\n",
       "      <td>9.472222</td>\n",
       "      <td>7.388889</td>\n",
       "      <td>0.89</td>\n",
       "      <td>14.1197</td>\n",
       "      <td>251</td>\n",
       "      <td>15.8263</td>\n",
       "      <td>1015.13</td>\n",
       "      <td>Friday</td>\n",
       "      <td>2006-03-31 22:00:00+00:00</td>\n",
       "      <td>Mar</td>\n",
       "      <td>06</td>\n",
       "    </tr>\n",
       "    <tr>\n",
       "      <th>1</th>\n",
       "      <td>2006-03-31 23:00:00+00:00</td>\n",
       "      <td>9.355556</td>\n",
       "      <td>7.227778</td>\n",
       "      <td>0.86</td>\n",
       "      <td>14.2646</td>\n",
       "      <td>259</td>\n",
       "      <td>15.8263</td>\n",
       "      <td>1015.63</td>\n",
       "      <td>Friday</td>\n",
       "      <td>2006-03-31 23:00:00+00:00</td>\n",
       "      <td>Mar</td>\n",
       "      <td>06</td>\n",
       "    </tr>\n",
       "    <tr>\n",
       "      <th>2</th>\n",
       "      <td>2006-04-01 00:00:00+00:00</td>\n",
       "      <td>9.377778</td>\n",
       "      <td>9.377778</td>\n",
       "      <td>0.89</td>\n",
       "      <td>3.9284</td>\n",
       "      <td>204</td>\n",
       "      <td>14.9569</td>\n",
       "      <td>1015.94</td>\n",
       "      <td>Saturday</td>\n",
       "      <td>2006-04-01 00:00:00+00:00</td>\n",
       "      <td>Apr</td>\n",
       "      <td>06</td>\n",
       "    </tr>\n",
       "    <tr>\n",
       "      <th>3</th>\n",
       "      <td>2006-04-01 01:00:00+00:00</td>\n",
       "      <td>8.288889</td>\n",
       "      <td>5.944444</td>\n",
       "      <td>0.83</td>\n",
       "      <td>14.1036</td>\n",
       "      <td>269</td>\n",
       "      <td>15.8263</td>\n",
       "      <td>1016.41</td>\n",
       "      <td>Saturday</td>\n",
       "      <td>2006-04-01 01:00:00+00:00</td>\n",
       "      <td>Apr</td>\n",
       "      <td>06</td>\n",
       "    </tr>\n",
       "    <tr>\n",
       "      <th>4</th>\n",
       "      <td>2006-04-01 02:00:00+00:00</td>\n",
       "      <td>8.755556</td>\n",
       "      <td>6.977778</td>\n",
       "      <td>0.83</td>\n",
       "      <td>11.0446</td>\n",
       "      <td>259</td>\n",
       "      <td>15.8263</td>\n",
       "      <td>1016.51</td>\n",
       "      <td>Saturday</td>\n",
       "      <td>2006-04-01 02:00:00+00:00</td>\n",
       "      <td>Apr</td>\n",
       "      <td>06</td>\n",
       "    </tr>\n",
       "  </tbody>\n",
       "</table>\n",
       "</div>"
      ],
      "text/plain": [
       "             Formatted Date  Temperature (C)  Apparent Temperature (C)  \\\n",
       "0 2006-03-31 22:00:00+00:00         9.472222                  7.388889   \n",
       "1 2006-03-31 23:00:00+00:00         9.355556                  7.227778   \n",
       "2 2006-04-01 00:00:00+00:00         9.377778                  9.377778   \n",
       "3 2006-04-01 01:00:00+00:00         8.288889                  5.944444   \n",
       "4 2006-04-01 02:00:00+00:00         8.755556                  6.977778   \n",
       "\n",
       "   Humidity  Wind Speed (km/h)  Wind Bearing (degrees)  Visibility (km)  \\\n",
       "0      0.89            14.1197                     251          15.8263   \n",
       "1      0.86            14.2646                     259          15.8263   \n",
       "2      0.89             3.9284                     204          14.9569   \n",
       "3      0.83            14.1036                     269          15.8263   \n",
       "4      0.83            11.0446                     259          15.8263   \n",
       "\n",
       "   Pressure (millibars) Day of week                     month    m   y  \n",
       "0               1015.13      Friday 2006-03-31 22:00:00+00:00  Mar  06  \n",
       "1               1015.63      Friday 2006-03-31 23:00:00+00:00  Mar  06  \n",
       "2               1015.94    Saturday 2006-04-01 00:00:00+00:00  Apr  06  \n",
       "3               1016.41    Saturday 2006-04-01 01:00:00+00:00  Apr  06  \n",
       "4               1016.51    Saturday 2006-04-01 02:00:00+00:00  Apr  06  "
      ]
     },
     "execution_count": 57,
     "metadata": {},
     "output_type": "execute_result"
    }
   ],
   "source": [
    "data2[\"m\"]=data2.month.dt.strftime(\"%b\")\n",
    "data2[\"y\"]=data2.month.dt.strftime(\"%y\")\n",
    "\n",
    "data2.head()"
   ]
  },
  {
   "cell_type": "code",
   "execution_count": 63,
   "metadata": {},
   "outputs": [
    {
     "data": {
      "text/plain": [
       "<AxesSubplot:>"
      ]
     },
     "execution_count": 63,
     "metadata": {},
     "output_type": "execute_result"
    },
    {
     "data": {
      "image/png": "[encoded data removed]",
      "text/plain": [
       "<Figure size 600x400 with 1 Axes>"
      ]
     },
     "metadata": {},
     "output_type": "display_data"
    }
   ],
   "source": [
    "year=data2[data2['y']=='10']\n",
    "year.head()\n",
    "year.plot()"
   ]
  },
  {
   "cell_type": "code",
   "execution_count": 64,
   "metadata": {},
   "outputs": [
    {
     "data": {
      "text/plain": [
       "<AxesSubplot:>"
      ]
     },
     "execution_count": 64,
     "metadata": {},
     "output_type": "execute_result"
    },
    {
     "data": {
      "image/png": "[encoded data removed]",
      "text/plain": [
       "<Figure size 600x400 with 1 Axes>"
      ]
     },
     "metadata": {},
     "output_type": "display_data"
    }
   ],
   "source": [
    "year=data2[data2['y']=='13']\n",
    "year.head()\n",
    "year.plot()"
   ]
  },
  {
   "cell_type": "code",
   "execution_count": 65,
   "metadata": {},
   "outputs": [
    {
     "data": {
      "text/plain": [
       "<AxesSubplot:>"
      ]
     },
     "execution_count": 65,
     "metadata": {},
     "output_type": "execute_result"
    },
    {
     "data": {
      "image/png": "[encoded data removed]",
      "text/plain": [
       "<Figure size 600x400 with 1 Axes>"
      ]
     },
     "metadata": {},
     "output_type": "display_data"
    }
   ],
   "source": [
    "year=data2[data2['y']=='16']\n",
    "year.head()\n",
    "year.plot()"
   ]
  }
 ],
 "metadata": {
  "kernelspec": {
   "display_name": "Python 3.10.5 64-bit",
   "language": "python",
   "name": "python3"
  },
  "language_info": {
   "codemirror_mode": {
    "name": "ipython",
    "version": 3
   },
   "file_extension": ".py",
   "mimetype": "text/x-python",
   "name": "python",
   "nbconvert_exporter": "python",
   "pygments_lexer": "ipython3",
   "version": "3.10.5"
  },
  "orig_nbformat": 4,
  "vscode": {
   "interpreter": {
    "hash": "d3e10ef16274dd72e574b8fa73b58450b957d8421a2901baded3cca26fcf5dda"
   }
  }
 },
 "nbformat": 4,
 "nbformat_minor": 2
}
